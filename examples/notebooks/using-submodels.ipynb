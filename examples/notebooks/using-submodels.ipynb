{
 "cells": [
  {
   "cell_type": "markdown",
   "metadata": {},
   "source": [
    "# Using submodels in PyBaMM\n",
    "In this notebook we show how to modify existing models by swapping out submodels, and how to build your own model from scratch using existing submodels. To see all of the models and submodels available in PyBaMM, please take a look at the documentation [here](https://pybamm.readthedocs.io/en/latest/source/models/index.html)."
   ]
  },
  {
   "cell_type": "markdown",
   "metadata": {},
   "source": [
    "## Changing a submodel in an exisiting battery model\n",
    "PyBaMM is designed to be a flexible modelling package that allows users to easily compare different models and numerical techniques within a common framework. Battery models within PyBaMM are built up using a number of submodels that describe different physics included within the model, such as mass conservation in the electrolyte or charge conservation in the solid. For ease of use, a number of popular battery models are pre-configured in PyBaMM. As an example, we look at the Single Particle Model (for more information see [here](./models/SPM.ipynb)). First we import PyBaMM and any other packages we need"
   ]
  },
  {
   "cell_type": "code",
   "execution_count": 1,
   "metadata": {},
   "outputs": [
    {
     "name": "stdout",
     "output_type": "stream",
     "text": [
      "Note: you may need to restart the kernel to use updated packages.\n"
     ]
    }
   ],
   "source": [
    "%pip install pybamm -q    # install PyBaMM if it is not installed\n",
    "import pybamm\n",
    "import os\n",
    "import numpy as np\n",
    "import matplotlib.pyplot as plt\n",
    "os.chdir(pybamm.__path__[0]+'/..')"
   ]
  },
  {
   "cell_type": "markdown",
   "metadata": {},
   "source": [
    "Then we load the SPM"
   ]
  },
  {
   "cell_type": "code",
   "execution_count": 2,
   "metadata": {},
   "outputs": [],
   "source": [
    "model = pybamm.lithium_ion.SPM()"
   ]
  },
  {
   "cell_type": "markdown",
   "metadata": {},
   "source": [
    "We can look at the submodels that make up the SPM by accessing `model.submodels`, which is a dictionary of the submodel's name (i.e. the physics it represents) and the submodel that is selected"
   ]
  },
  {
   "cell_type": "code",
   "execution_count": 3,
   "metadata": {},
   "outputs": [
    {
     "name": "stdout",
     "output_type": "stream",
     "text": [
      "external circuit <pybamm.models.submodels.external_circuit.current_control_external_circuit.CurrentControl object at 0x7f54772b4390>\n",
      "porosity <pybamm.models.submodels.porosity.constant_porosity.Constant object at 0x7f54772b44a8>\n",
      "electrolyte tortuosity <pybamm.models.submodels.tortuosity.bruggeman_tortuosity.Bruggeman object at 0x7f54772b4550>\n",
      "electrode tortuosity <pybamm.models.submodels.tortuosity.bruggeman_tortuosity.Bruggeman object at 0x7f54772b45f8>\n",
      "through-cell convection <pybamm.models.submodels.convection.through_cell.no_convection.NoConvection object at 0x7f54772b46a0>\n",
      "transverse convection <pybamm.models.submodels.convection.transverse.no_convection.NoConvection object at 0x7f54772ad048>\n",
      "negative interface <pybamm.models.submodels.interface.inverse_kinetics.inverse_butler_volmer.InverseButlerVolmer object at 0x7f54772ad128>\n",
      "positive interface <pybamm.models.submodels.interface.inverse_kinetics.inverse_butler_volmer.InverseButlerVolmer object at 0x7f54772b47b8>\n",
      "negative interface current <pybamm.models.submodels.interface.inverse_kinetics.inverse_butler_volmer.CurrentForInverseButlerVolmer object at 0x7f54772b4860>\n",
      "positive interface current <pybamm.models.submodels.interface.inverse_kinetics.inverse_butler_volmer.CurrentForInverseButlerVolmer object at 0x7f54772b4908>\n",
      "negative oxygen interface <pybamm.models.submodels.interface.kinetics.no_reaction.NoReaction object at 0x7f54772b49b0>\n",
      "positive oxygen interface <pybamm.models.submodels.interface.kinetics.no_reaction.NoReaction object at 0x7f54772b4a58>\n",
      "negative particle <pybamm.models.submodels.particle.fickian_single_particle.FickianSingleParticle object at 0x7f54772b4b00>\n",
      "positive particle <pybamm.models.submodels.particle.fickian_single_particle.FickianSingleParticle object at 0x7f54772b4ba8>\n",
      "negative electrode <pybamm.models.submodels.electrode.ohm.leading_ohm.LeadingOrder object at 0x7f54772b4c50>\n",
      "leading-order electrolyte conductivity <pybamm.models.submodels.electrolyte_conductivity.leading_order_conductivity.LeadingOrder object at 0x7f5477625cf8>\n",
      "electrolyte diffusion <pybamm.models.submodels.electrolyte_diffusion.constant_concentration.ConstantConcentration object at 0x7f54772b4d68>\n",
      "positive electrode <pybamm.models.submodels.electrode.ohm.leading_ohm.LeadingOrder object at 0x7f54772b4e10>\n",
      "thermal <pybamm.models.submodels.thermal.isothermal.Isothermal object at 0x7f54772b4eb8>\n",
      "current collector <pybamm.models.submodels.current_collector.homogeneous_current_collector.Uniform object at 0x7f54772b4f60>\n",
      "negative sei <pybamm.models.submodels.interface.sei.no_sei.NoSEI object at 0x7f5477249048>\n",
      "positive sei <pybamm.models.submodels.interface.sei.no_sei.NoSEI object at 0x7f54772490f0>\n"
     ]
    }
   ],
   "source": [
    "for name, submodel in model.submodels.items():\n",
    "    print(name, submodel)"
   ]
  },
  {
   "cell_type": "markdown",
   "metadata": {},
   "source": [
    "When you load a model in PyBaMM it builds by default. Building the model sets all of the model variables and sets up any variables which are coupled between different submodels: this is the process which couples the submodels together and allows one submodel to access variables from another. If you would like to swap out a submodel in an existing battery model you need to load it without building it by passing the keyword `build=False`"
   ]
  },
  {
   "cell_type": "code",
   "execution_count": 4,
   "metadata": {},
   "outputs": [],
   "source": [
    "model = pybamm.lithium_ion.SPM(build=False)"
   ]
  },
  {
   "cell_type": "markdown",
   "metadata": {},
   "source": [
    "This collects all of the submodels which make up the SPM, but doesn't build the model. Now you are free to swap out one submodel for another. For instance, you may want to assume that diffusion within the negative particles is infinitely fast, so that the PDE describing diffusion is replaced with an ODE for the uniform particle concentration. To change a submodel you simply update the dictionary entry, in this case to the `PolynomialSingleParticle` submodel"
   ]
  },
  {
   "cell_type": "code",
   "execution_count": 5,
   "metadata": {},
   "outputs": [],
   "source": [
    "model.submodels[\"negative particle\"] = pybamm.particle.PolynomialSingleParticle(model.param, \"Negative\",\"uniform profile\")"
   ]
  },
  {
   "cell_type": "markdown",
   "metadata": {},
   "source": [
    "where we pass in the model parameters, the electrode (negative or positive) the submodel corresponds to, and the name of the polynomial we want to use. In the example we assume uniform concentration within the particle, corresponding to a zero-order polynomial."
   ]
  },
  {
   "cell_type": "markdown",
   "metadata": {},
   "source": [
    "Now if we look at the submodels again we see that the model for the negative particle has been changed"
   ]
  },
  {
   "cell_type": "code",
   "execution_count": 6,
   "metadata": {},
   "outputs": [
    {
     "name": "stdout",
     "output_type": "stream",
     "text": [
      "external circuit <pybamm.models.submodels.external_circuit.current_control_external_circuit.CurrentControl object at 0x7f5476d64320>\n",
      "porosity <pybamm.models.submodels.porosity.constant_porosity.Constant object at 0x7f5476d64438>\n",
      "electrolyte tortuosity <pybamm.models.submodels.tortuosity.bruggeman_tortuosity.Bruggeman object at 0x7f5476d644e0>\n",
      "electrode tortuosity <pybamm.models.submodels.tortuosity.bruggeman_tortuosity.Bruggeman object at 0x7f5476d64588>\n",
      "through-cell convection <pybamm.models.submodels.convection.through_cell.no_convection.NoConvection object at 0x7f5476d64630>\n",
      "transverse convection <pybamm.models.submodels.convection.transverse.no_convection.NoConvection object at 0x7f5476d646d8>\n",
      "negative interface <pybamm.models.submodels.interface.inverse_kinetics.inverse_butler_volmer.InverseButlerVolmer object at 0x7f5476d64780>\n",
      "positive interface <pybamm.models.submodels.interface.inverse_kinetics.inverse_butler_volmer.InverseButlerVolmer object at 0x7f5476d64828>\n",
      "negative interface current <pybamm.models.submodels.interface.inverse_kinetics.inverse_butler_volmer.CurrentForInverseButlerVolmer object at 0x7f5476d648d0>\n",
      "positive interface current <pybamm.models.submodels.interface.inverse_kinetics.inverse_butler_volmer.CurrentForInverseButlerVolmer object at 0x7f5476d64978>\n",
      "negative oxygen interface <pybamm.models.submodels.interface.kinetics.no_reaction.NoReaction object at 0x7f5476d64a20>\n",
      "positive oxygen interface <pybamm.models.submodels.interface.kinetics.no_reaction.NoReaction object at 0x7f5476d64ac8>\n",
      "negative particle <pybamm.models.submodels.particle.polynomial_single_particle.PolynomialSingleParticle object at 0x7f54772b4d30>\n",
      "positive particle <pybamm.models.submodels.particle.fickian_single_particle.FickianSingleParticle object at 0x7f5476d64c18>\n",
      "negative electrode <pybamm.models.submodels.electrode.ohm.leading_ohm.LeadingOrder object at 0x7f5476d64cc0>\n",
      "leading-order electrolyte conductivity <pybamm.models.submodels.electrolyte_conductivity.leading_order_conductivity.LeadingOrder object at 0x7f5476d64d68>\n",
      "electrolyte diffusion <pybamm.models.submodels.electrolyte_diffusion.constant_concentration.ConstantConcentration object at 0x7f5476d64e10>\n",
      "positive electrode <pybamm.models.submodels.electrode.ohm.leading_ohm.LeadingOrder object at 0x7f5476d64eb8>\n",
      "thermal <pybamm.models.submodels.thermal.isothermal.Isothermal object at 0x7f5476d64f60>\n",
      "current collector <pybamm.models.submodels.current_collector.homogeneous_current_collector.Uniform object at 0x7f5476d73048>\n",
      "negative sei <pybamm.models.submodels.interface.sei.no_sei.NoSEI object at 0x7f5476d730f0>\n",
      "positive sei <pybamm.models.submodels.interface.sei.no_sei.NoSEI object at 0x7f5476d73198>\n"
     ]
    }
   ],
   "source": [
    "for name, submodel in model.submodels.items():\n",
    "    print(name, submodel)"
   ]
  },
  {
   "cell_type": "markdown",
   "metadata": {},
   "source": [
    "Building the model also sets up the equations, boundary and initial conditions for the model. For example, if we look at `model.rhs` before building we see that it is empty "
   ]
  },
  {
   "cell_type": "code",
   "execution_count": 7,
   "metadata": {},
   "outputs": [
    {
     "data": {
      "text/plain": [
       "{}"
      ]
     },
     "execution_count": 7,
     "metadata": {},
     "output_type": "execute_result"
    }
   ],
   "source": [
    "model.rhs"
   ]
  },
  {
   "cell_type": "markdown",
   "metadata": {},
   "source": [
    "If we try to use this empty model, PyBaMM will give an error. So, before proceeding we must build the model"
   ]
  },
  {
   "cell_type": "code",
   "execution_count": 8,
   "metadata": {},
   "outputs": [],
   "source": [
    "model.build_model()"
   ]
  },
  {
   "cell_type": "markdown",
   "metadata": {},
   "source": [
    "Now if we look at `model.rhs` we see that it contains an entry relating to the concentration in each particle, as expected for the SPM"
   ]
  },
  {
   "cell_type": "code",
   "execution_count": 9,
   "metadata": {},
   "outputs": [
    {
     "data": {
      "text/plain": [
       "{Variable(-0x76e9ac45faa9a085, Discharge capacity [A.h], children=[], domain=[], auxiliary_domains={}): Division(0x38ec6f424983d6a4, /, children=['Current function [A] * 96485.33212 * Maximum concentration in negative electrode [mol.m-3] * Negative electrode thickness [m] + Separator thickness [m] + Positive electrode thickness [m] / function (absolute)', '3600.0'], domain=[], auxiliary_domains={}),\n",
       " Variable(-0xe8b66fee89e3687, R-X-averaged negative particle concentration, children=[], domain=['current collector'], auxiliary_domains={}): Division(-0x2a08c720d82141eb, /, children=[\"-3.0 * integral dx_n ['negative electrode'](broadcast(broadcast(Current function [A] / Typical current [A] * function (sign)) / Negative electrode thickness [m] / Negative electrode thickness [m] + Separator thickness [m] + Positive electrode thickness [m]) - broadcast(0.0) + broadcast(0.0)) / Negative electrode thickness [m] / Negative electrode thickness [m] + Separator thickness [m] + Positive electrode thickness [m]\", '3.0 * Negative electrode active material volume fraction / Negative particle radius [m] * Negative particle radius [m]'], domain=['current collector'], auxiliary_domains={}),\n",
       " Variable(0xb6bfcb940e81f36, X-averaged positive particle concentration, children=[], domain=['positive particle'], auxiliary_domains={'secondary': \"['current collector']\"}): Multiplication(0x5aad58d362373d5d, *, children=['-1.0 / Positive particle radius [m] ** 2.0 / Positive electrode diffusivity [m2.s-1] / 96485.33212 * Maximum concentration in negative electrode [mol.m-3] * Negative electrode thickness [m] + Separator thickness [m] + Positive electrode thickness [m] / function (absolute)', 'div(-Positive electrode diffusivity [m2.s-1] / Positive electrode diffusivity [m2.s-1] * grad(X-averaged positive particle concentration))'], domain=['positive particle'], auxiliary_domains={'secondary': \"['current collector']\"})}"
      ]
     },
     "execution_count": 9,
     "metadata": {},
     "output_type": "execute_result"
    }
   ],
   "source": [
    "model.rhs"
   ]
  },
  {
   "cell_type": "markdown",
   "metadata": {},
   "source": [
    "Now the model can be processed and solved in the usual way, and we still have access to model defaults such as the default geometry and default spatial methods"
   ]
  },
  {
   "cell_type": "code",
   "execution_count": 10,
   "metadata": {},
   "outputs": [
    {
     "data": {
      "text/plain": [
       "<pybamm.models.full_battery_models.lithium_ion.spm.SPM at 0x7f5476dce828>"
      ]
     },
     "execution_count": 10,
     "metadata": {},
     "output_type": "execute_result"
    }
   ],
   "source": [
    "# create geometry\n",
    "geometry = model.default_geometry\n",
    "\n",
    "# load parameter values and process model and geometry\n",
    "param = model.default_parameter_values\n",
    "param.process_model(model)\n",
    "param.process_geometry(geometry)\n",
    "\n",
    "# set mesh\n",
    "mesh = pybamm.Mesh(geometry, model.default_submesh_types, model.default_var_pts)\n",
    "\n",
    "# discretise model\n",
    "disc = pybamm.Discretisation(mesh, model.default_spatial_methods)\n",
    "disc.process_model(model)"
   ]
  },
  {
   "cell_type": "code",
   "execution_count": 11,
   "metadata": {},
   "outputs": [
    {
     "data": {
      "image/png": "[encoded data removed]",
      "text/plain": [
       "<Figure size 432x288 with 1 Axes>"
      ]
     },
     "metadata": {
      "needs_background": "light"
     },
     "output_type": "display_data"
    }
   ],
   "source": [
    "# solve model\n",
    "t_eval = np.linspace(0, 3600, 100)\n",
    "solution = model.default_solver.solve(model, t_eval)\n",
    "\n",
    "# extract time in seconds and terminal voltage\n",
    "time = solution[\"Time [s]\"].entries\n",
    "voltage = solution['Terminal voltage [V]'].entries\n",
    "\n",
    "# plot\n",
    "plt.plot(time, voltage)\n",
    "plt.xlabel(r'$t$')\n",
    "plt.ylabel('Terminal voltage')\n",
    "plt.show()"
   ]
  },
  {
   "cell_type": "markdown",
   "metadata": {},
   "source": [
    "## Building a custom model from submodels\n",
    "Instead of editing a pre-exisitng model, you may wish to build your own model from scratch by combining exisitng submodels of you choice. In this section, we build a Single Particle Model in which the diffusion is assumed infinitely fast in both particles. \n",
    "\n",
    "To begin, we load a base lithium-ion model. This sets up the basic model structure behind the scenes, and also sets the default paramaters to be those corresponding to a lithium-ion battery. Note that the base model does not select any default submodels, so there is no need to pass `build=False`."
   ]
  },
  {
   "cell_type": "code",
   "execution_count": 12,
   "metadata": {},
   "outputs": [],
   "source": [
    "model = pybamm.lithium_ion.BaseModel()"
   ]
  },
  {
   "cell_type": "markdown",
   "metadata": {},
   "source": [
    "Submodels can be added to the `model.submodels` dictionary in the same way that we changed the submodels earlier. \n",
    "\n",
    "We use the simplest model for the external circuit, which is the \"current control\" submodel"
   ]
  },
  {
   "cell_type": "code",
   "execution_count": 13,
   "metadata": {},
   "outputs": [],
   "source": [
    "model.submodels[\"external circuit\"] = pybamm.external_circuit.CurrentControl(model.param)"
   ]
  },
  {
   "cell_type": "markdown",
   "metadata": {},
   "source": [
    "We want to build a 1D model, so select the `Uniform` current collector model (if the current collectors are behaving uniformly, then a 1D model is appropriate). We also want the model to be isothermal, so slect the thermal model accordingly. "
   ]
  },
  {
   "cell_type": "code",
   "execution_count": 14,
   "metadata": {},
   "outputs": [],
   "source": [
    "model.submodels[\"current collector\"] = pybamm.current_collector.Uniform(model.param)\n",
    "model.submodels[\"thermal\"] = pybamm.thermal.isothermal.Isothermal(model.param)"
   ]
  },
  {
   "cell_type": "markdown",
   "metadata": {},
   "source": [
    "We assume that the current density varies linearly in the electrodes. This corresponds the the leading-order terms in Ohm's law in the limit in which the SPM is derived in [1]"
   ]
  },
  {
   "cell_type": "code",
   "execution_count": 15,
   "metadata": {},
   "outputs": [],
   "source": [
    "model.submodels[\"negative electrode\"] = pybamm.electrode.ohm.LeadingOrder(\n",
    "    model.param, \"Negative\"\n",
    ")\n",
    "model.submodels[\"positive electrode\"] = pybamm.electrode.ohm.LeadingOrder(\n",
    "    model.param, \"Positive\"\n",
    ")"
   ]
  },
  {
   "cell_type": "markdown",
   "metadata": {},
   "source": [
    "We assume uniform concentration in both the negative and positive particles "
   ]
  },
  {
   "cell_type": "code",
   "execution_count": 16,
   "metadata": {},
   "outputs": [],
   "source": [
    "model.submodels[\"negative particle\"] = pybamm.particle.PolynomialSingleParticle(\n",
    "    model.param, \"Negative\", \"uniform profile\"\n",
    ")\n",
    "model.submodels[\"positive particle\"] = pybamm.particle.PolynomialSingleParticle(\n",
    "    model.param, \"Positive\", \"uniform profile\"\n",
    ")"
   ]
  },
  {
   "cell_type": "markdown",
   "metadata": {},
   "source": [
    "In the Single Particle Model, the overpotential can be obtianed by inverting the Butler-Volmer relation, so we choose the `InverseButlerVolmer` submodel for the interface, with the \"main\" lithium-ion reaction. Because of how the current is implemented, we also need to separately specify the `CurrentForInverseButlerVolmer` submodel"
   ]
  },
  {
   "cell_type": "code",
   "execution_count": 17,
   "metadata": {},
   "outputs": [],
   "source": [
    "model.submodels[\n",
    "    \"negative interface\"\n",
    "] = pybamm.interface.InverseButlerVolmer(model.param, \"Negative\", \"lithium-ion main\")\n",
    "model.submodels[\n",
    "    \"positive interface\"\n",
    "] = pybamm.interface.InverseButlerVolmer(model.param, \"Positive\", \"lithium-ion main\")\n",
    "model.submodels[\n",
    "    \"negative interface current\"\n",
    "] = pybamm.interface.CurrentForInverseButlerVolmer(\n",
    "    model.param, \"Negative\", \"lithium-ion main\"\n",
    ")\n",
    "model.submodels[\n",
    "    \"positive interface current\"\n",
    "] = pybamm.interface.CurrentForInverseButlerVolmer(\n",
    "    model.param, \"Positive\", \"lithium-ion main\"\n",
    ")"
   ]
  },
  {
   "cell_type": "markdown",
   "metadata": {},
   "source": [
    "We don't want any SEI formation in this model"
   ]
  },
  {
   "cell_type": "code",
   "execution_count": 18,
   "metadata": {},
   "outputs": [],
   "source": [
    "model.submodels[\"negative sei\"] = pybamm.sei.NoSEI(model.param, \"Negative\")\n",
    "model.submodels[\"positive sei\"] = pybamm.sei.NoSEI(model.param, \"Positive\")"
   ]
  },
  {
   "cell_type": "markdown",
   "metadata": {},
   "source": [
    "Finally, for the electrolyte we assume that diffusion is infinitely fast so that the concentration is uniform, and also use the leading-order model for charge conservation, which leads to a linear variation in ionic current in the electrodes"
   ]
  },
  {
   "cell_type": "code",
   "execution_count": 19,
   "metadata": {},
   "outputs": [],
   "source": [
    "model.submodels[\"electrolyte diffusion\"] = pybamm.electrolyte_diffusion.ConstantConcentration(\n",
    "    model.param\n",
    ")\n",
    "model.submodels[\"electrolyte conductivity\"] = pybamm.electrolyte_conductivity.LeadingOrder(\n",
    "    model.param\n",
    ")"
   ]
  },
  {
   "cell_type": "markdown",
   "metadata": {},
   "source": [
    "Now that we have set all of the submodels we can build the model"
   ]
  },
  {
   "cell_type": "code",
   "execution_count": 20,
   "metadata": {},
   "outputs": [],
   "source": [
    "model.build_model()"
   ]
  },
  {
   "cell_type": "markdown",
   "metadata": {},
   "source": [
    "We use the standard battery geometry with particles (default) and a current collector dimension of 0 (default)"
   ]
  },
  {
   "cell_type": "code",
   "execution_count": 21,
   "metadata": {},
   "outputs": [],
   "source": [
    "geometry = pybamm.battery_geometry(include_particles=True, current_collector_dimension=0)"
   ]
  },
  {
   "cell_type": "markdown",
   "metadata": {},
   "source": [
    "The base model does come with defaults for the parameters, spatial methods and submeshes, so we can now proceed to solve the model in the usual way "
   ]
  },
  {
   "cell_type": "code",
   "execution_count": 22,
   "metadata": {},
   "outputs": [
    {
     "data": {
      "text/plain": [
       "<pybamm.models.full_battery_models.lithium_ion.base_lithium_ion_model.BaseModel at 0x7f5476973278>"
      ]
     },
     "execution_count": 22,
     "metadata": {},
     "output_type": "execute_result"
    }
   ],
   "source": [
    "# process model and geometry\n",
    "param = model.default_parameter_values\n",
    "param.process_model(model)\n",
    "param.process_geometry(geometry)\n",
    "\n",
    "# set mesh\n",
    "mesh = pybamm.Mesh(geometry, model.default_submesh_types, model.default_var_pts)\n",
    "\n",
    "# discretise model\n",
    "disc = pybamm.Discretisation(mesh, model.default_spatial_methods)\n",
    "disc.process_model(model)"
   ]
  },
  {
   "cell_type": "code",
   "execution_count": 23,
   "metadata": {},
   "outputs": [
    {
     "data": {
      "image/png": "[encoded data removed]",
      "text/plain": [
       "<Figure size 432x288 with 1 Axes>"
      ]
     },
     "metadata": {
      "needs_background": "light"
     },
     "output_type": "display_data"
    }
   ],
   "source": [
    "# solve model\n",
    "t_eval = np.linspace(0, 3600, 100)\n",
    "solver = pybamm.ScipySolver()\n",
    "solution = solver.solve(model, t_eval)\n",
    "\n",
    "# extract time in seconds and terminal voltage\n",
    "time = solution[\"Time [s]\"].entries\n",
    "voltage = solution['Terminal voltage [V]'].entries\n",
    "\n",
    "# plot\n",
    "plt.plot(time, voltage)\n",
    "plt.xlabel(r'$t$')\n",
    "plt.ylabel('Terminal voltage')\n",
    "plt.show()"
   ]
  },
  {
   "cell_type": "markdown",
   "metadata": {},
   "source": [
    "## References\n",
    "[1] Marquis, S. G., Sulzer, V.,  Timms, R.,  Please, C. P.,  &  Chapman, S. J. (2019). “An  asymptotic derivation of a single particle model with electrolyte”. [Journal of The Electrochemical Society](https://doi.org/10.1149/2.0341915jes), 166(15), A3693-A3706.\n",
    "\n",
    "[2] M Doyle, TF Fuller and J Newman. \"Modeling of galvanostatic charge and discharge of the lithium/polymer/insertion cell.\" Journal of the Electrochemical Society 140.6 (1993): 1526-1533."
   ]
  },
  {
   "cell_type": "code",
   "execution_count": null,
   "metadata": {},
   "outputs": [],
   "source": []
  }
 ],
 "metadata": {
  "kernelspec": {
   "display_name": "Python 3",
   "language": "python",
   "name": "python3"
  },
  "language_info": {
   "codemirror_mode": {
    "name": "ipython",
    "version": 3
   },
   "file_extension": ".py",
   "mimetype": "text/x-python",
   "name": "python",
   "nbconvert_exporter": "python",
   "pygments_lexer": "ipython3",
   "version": "3.6.9"
  }
 },
 "nbformat": 4,
 "nbformat_minor": 2
}
