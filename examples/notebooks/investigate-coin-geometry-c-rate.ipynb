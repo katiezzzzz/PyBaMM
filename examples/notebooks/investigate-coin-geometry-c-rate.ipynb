{
 "cells": [
  {
   "cell_type": "markdown",
   "metadata": {},
   "source": [
    "# Testing the Performance of Coin Model at Low C Rate"
   ]
  },
  {
   "cell_type": "code",
   "execution_count": 1,
   "metadata": {},
   "outputs": [
    {
     "name": "stdout",
     "output_type": "stream",
     "text": [
      "The history saving thread hit an unexpected error (DatabaseError('database disk image is malformed')).History will not be written to the database.\n",
      "Note: you may need to restart the kernel to use updated packages.\n"
     ]
    }
   ],
   "source": [
    "%pip install pybamm -q    # install PyBaMM if it is not installed\n",
    "import pybamm\n",
    "import os\n",
    "import pandas as pd\n",
    "import numpy as np\n",
    "import matplotlib.pyplot as plt\n",
    "os.chdir(pybamm.__path__[0]+'/..')"
   ]
  },
  {
   "cell_type": "code",
   "execution_count": 2,
   "metadata": {},
   "outputs": [],
   "source": [
    "chemistry = pybamm.parameter_sets.Ecker2015_v2\n",
    "var = pybamm.standard_spatial_vars"
   ]
  },
  {
   "cell_type": "markdown",
   "metadata": {},
   "source": [
    "Model 1, DFN coin"
   ]
  },
  {
   "cell_type": "code",
   "execution_count": 3,
   "metadata": {},
   "outputs": [],
   "source": [
    "# choose DFN\n",
    "model1 = pybamm.lithium_ion. DFN(build=False)\n",
    "# add rho_n\n",
    "model1.variables.update(\n",
    "    {\n",
    "        \"rho_n\": var.rho_n,\n",
    "        \"rho_n [m]\": var.rho_n * model1.param.R_n,\n",
    "    }\n",
    ")\n",
    "# delete r_n\n",
    "model1.variables.pop('r_n', None)\n",
    "model1.variables.pop('r_n [m]', None)\n",
    "model1.build_model()"
   ]
  },
  {
   "cell_type": "markdown",
   "metadata": {},
   "source": [
    "Model 2, SPMe coin"
   ]
  },
  {
   "cell_type": "code",
   "execution_count": 4,
   "metadata": {},
   "outputs": [
    {
     "data": {
      "text/plain": [
       "{'Time': Time(0x66eeb6b8433c94d9, time, children=[], domain=[], auxiliary_domains={}),\n",
       " 'Time [s]': Multiplication(-0x6cba65740f71ae8c, *, children=['time', '96485.33212 * Maximum concentration in negative electrode [mol.m-3] * Negative electrode thickness [m] + Separator thickness [m] + Positive electrode thickness [m] / function (absolute)'], domain=[], auxiliary_domains={}),\n",
       " 'Time [min]': Division(-0x2e5146133362db7c, /, children=['time * 96485.33212 * Maximum concentration in negative electrode [mol.m-3] * Negative electrode thickness [m] + Separator thickness [m] + Positive electrode thickness [m] / function (absolute)', '60.0'], domain=[], auxiliary_domains={}),\n",
       " 'Time [h]': Division(-0x55709e536ec0094d, /, children=['time * 96485.33212 * Maximum concentration in negative electrode [mol.m-3] * Negative electrode thickness [m] + Separator thickness [m] + Positive electrode thickness [m] / function (absolute)', '3600.0'], domain=[], auxiliary_domains={}),\n",
       " 'x': SpatialVariable(-0x64c98e6b06fb763, x, children=[], domain=['negative electrode', 'separator', 'positive electrode'], auxiliary_domains={'secondary': \"['current collector']\"}),\n",
       " 'x [m]': Multiplication(-0x5477f59d79199121, *, children=['x', 'Negative electrode thickness [m] + Separator thickness [m] + Positive electrode thickness [m]'], domain=['negative electrode', 'separator', 'positive electrode'], auxiliary_domains={'secondary': \"['current collector']\"}),\n",
       " 'x_n': SpatialVariable(0x42c4224a0f72ce1, x_n, children=[], domain=['negative electrode'], auxiliary_domains={'secondary': \"['current collector']\"}),\n",
       " 'x_n [m]': Multiplication(0x2f12bd8b015937e1, *, children=['x_n', 'Negative electrode thickness [m] + Separator thickness [m] + Positive electrode thickness [m]'], domain=['negative electrode'], auxiliary_domains={'secondary': \"['current collector']\"}),\n",
       " 'x_s': SpatialVariable(-0x46bd0e87dd620428, x_s, children=[], domain=['separator'], auxiliary_domains={'secondary': \"['current collector']\"}),\n",
       " 'x_s [m]': Multiplication(-0x4405a5c93f0fdcae, *, children=['x_s', 'Negative electrode thickness [m] + Separator thickness [m] + Positive electrode thickness [m]'], domain=['separator'], auxiliary_domains={'secondary': \"['current collector']\"}),\n",
       " 'x_p': SpatialVariable(0x6204cd0d190fd430, x_p, children=[], domain=['positive electrode'], auxiliary_domains={'secondary': \"['current collector']\"}),\n",
       " 'x_p [m]': Multiplication(0x76e5accb8e7c52d3, *, children=['x_p', 'Negative electrode thickness [m] + Separator thickness [m] + Positive electrode thickness [m]'], domain=['positive electrode'], auxiliary_domains={'secondary': \"['current collector']\"}),\n",
       " 'Sum of electrolyte reaction source terms': 0,\n",
       " 'Sum of negative electrode electrolyte reaction source terms': 0,\n",
       " 'Sum of positive electrode electrolyte reaction source terms': 0,\n",
       " 'Sum of x-averaged negative electrode electrolyte reaction source terms': 0,\n",
       " 'Sum of x-averaged positive electrode electrolyte reaction source terms': 0,\n",
       " 'Sum of interfacial current densities': 0,\n",
       " 'Sum of negative electrode interfacial current densities': 0,\n",
       " 'Sum of positive electrode interfacial current densities': 0,\n",
       " 'Sum of x-averaged negative electrode interfacial current densities': 0,\n",
       " 'Sum of x-averaged positive electrode interfacial current densities': 0,\n",
       " 'r_n': SpatialVariable(0x42e5037482c1f1ea, r_n, children=[], domain=['negative particle'], auxiliary_domains={'secondary': \"['negative electrode']\", 'tertiary': \"['current collector']\"}),\n",
       " 'r_n [m]': Multiplication(-0x6d4f5ffc876fd890, *, children=['r_n', 'Negative particle radius [m]'], domain=['negative particle'], auxiliary_domains={'secondary': \"['negative electrode']\", 'tertiary': \"['current collector']\"}),\n",
       " 'r_p': SpatialVariable(-0x772f29b97e70fa0e, r_p, children=[], domain=['positive particle'], auxiliary_domains={'secondary': \"['positive electrode']\", 'tertiary': \"['current collector']\"}),\n",
       " 'r_p [m]': Multiplication(-0x1cfdc387c7a5b0c4, *, children=['r_p', 'Positive particle radius [m]'], domain=['positive particle'], auxiliary_domains={'secondary': \"['positive electrode']\", 'tertiary': \"['current collector']\"})}"
      ]
     },
     "execution_count": 4,
     "metadata": {},
     "output_type": "execute_result"
    }
   ],
   "source": [
    "# choose SPMe\n",
    "model2 = pybamm.lithium_ion. SPMe(build=False)\n",
    "model2.variables"
   ]
  },
  {
   "cell_type": "code",
   "execution_count": 5,
   "metadata": {},
   "outputs": [],
   "source": [
    "# add rho_n\n",
    "model2.variables.update(\n",
    "    {\n",
    "        \"rho_n\": var.rho_n,\n",
    "        \"rho_n [m]\": var.rho_n * model2.param.R_n,\n",
    "    }\n",
    ")\n",
    "# delete r_n\n",
    "model2.variables.pop('r_n', None)\n",
    "model2.variables.pop('r_n [m]', None)\n",
    "model2.build_model()"
   ]
  },
  {
   "cell_type": "markdown",
   "metadata": {},
   "source": [
    "Model 3, DFN spherical\n",
    "\n",
    "Model 4, SPMe spherical"
   ]
  },
  {
   "cell_type": "code",
   "execution_count": 6,
   "metadata": {},
   "outputs": [],
   "source": [
    "# choose DFN\n",
    "model3 = pybamm.lithium_ion.DFN()\n",
    "# choose SPMe\n",
    "model4 = pybamm.lithium_ion.SPMe()"
   ]
  },
  {
   "cell_type": "markdown",
   "metadata": {},
   "source": [
    "Parameter set 1, coin"
   ]
  },
  {
   "cell_type": "code",
   "execution_count": 7,
   "metadata": {},
   "outputs": [],
   "source": [
    "# pick parameters, keeping C-rate as an input to be changed for each solve\n",
    "parameter_values1 = pybamm.ParameterValues(chemistry=chemistry)\n",
    "parameter_values1.update({\"Current function [A]\": \"[input]\"})\n",
    "parameter_values1.update({\"Negative particle radius [m]\": 2.1e-05})\n",
    "parameter_values1.update({\"Negative electrode diffusivity [m2.s-1]\": \"[function]graphite_diffusivity_Ecker2015_4\"},\n",
    "                        path=\"pybamm/input/parameters/lithium-ion/anodes/\" + chemistry['anode'])"
   ]
  },
  {
   "cell_type": "markdown",
   "metadata": {},
   "source": [
    "Parameter set 2, spherical"
   ]
  },
  {
   "cell_type": "code",
   "execution_count": 8,
   "metadata": {},
   "outputs": [],
   "source": [
    "parameter_values2 = pybamm.ParameterValues(chemistry=chemistry)\n",
    "parameter_values2.update({\"Current function [A]\": \"[input]\"})\n",
    "parameter_values1.update({\"Negative electrode diffusivity [m2.s-1]\": \"[function]graphite_diffusivity_Ecker2015_up\"},\n",
    "                        path=\"pybamm/input/parameters/lithium-ion/anodes/\" + chemistry['anode'])"
   ]
  },
  {
   "cell_type": "code",
   "execution_count": 9,
   "metadata": {},
   "outputs": [],
   "source": [
    "# coin\n",
    "var_pts1 = {\n",
    "    var.x_n: int(parameter_values1.evaluate(model2.param.L_n / 1e-6)),\n",
    "    var.x_s: int(parameter_values1.evaluate(model2.param.L_s / 1e-6)),\n",
    "    var.x_p: int(parameter_values1.evaluate(model2.param.L_p / 1e-6)),\n",
    "    var.rho_n: 1000,\n",
    "    var.r_p: int(parameter_values1.evaluate(model2.param.R_p / 1e-7)),\n",
    "}\n",
    "# spherical\n",
    "var_pts2 = {\n",
    "    var.x_n: int(parameter_values2.evaluate(model4.param.L_n / 1e-6)),\n",
    "    var.x_s: int(parameter_values2.evaluate(model4.param.L_s / 1e-6)),\n",
    "    var.x_p: int(parameter_values2.evaluate(model4.param.L_p / 1e-6)),\n",
    "    var.r_n: int(parameter_values2.evaluate(model4.param.R_n / 1e-7)),\n",
    "    var.r_p: int(parameter_values2.evaluate(model4.param.R_p / 1e-7)),\n",
    "}"
   ]
  },
  {
   "cell_type": "code",
   "execution_count": 10,
   "metadata": {},
   "outputs": [],
   "source": [
    "sim1 =  pybamm.Simulation(model2, parameter_values=parameter_values1, var_pts=var_pts1, geometry=pybamm.battery_geometry(coin_geometry=True))\n",
    "sim2 =  pybamm.Simulation(model4, parameter_values=parameter_values2, var_pts=var_pts2)"
   ]
  },
  {
   "cell_type": "code",
   "execution_count": 11,
   "metadata": {},
   "outputs": [
    {
     "data": {
      "text/plain": [
       "{'1 + dlnf/dlnc': 1.0,\n",
       " 'Ambient temperature [K]': 298.15,\n",
       " 'Bulk solvent concentration [mol.m-3]': 2636.0,\n",
       " 'Cation transference number': 0.26,\n",
       " 'Cell capacity [A.h]': 0.15625,\n",
       " 'Cell cooling surface area [m2]': 0.0172,\n",
       " 'Cell volume [m3]': 1.61e-06,\n",
       " 'Current function [A]': InputParameter(-0x16840d6ea70b7e3f, Current function [A], children=[], domain=[], auxiliary_domains={}),\n",
       " 'EC diffusivity [m2.s-1]': 2e-18,\n",
       " 'EC initial concentration in electrolyte [mol.m-3]': 4541.0,\n",
       " 'Edge heat transfer coefficient [W.m-2.K-1]': 0.3,\n",
       " 'Electrode height [m]': 0.10099999999999999,\n",
       " 'Electrode width [m]': 0.085,\n",
       " 'Electrolyte conductivity [S.m-1]': <function electrolyte_conductivity_Ecker2015 at 0x7fc82c8c1a70>,\n",
       " 'Electrolyte diffusivity [m2.s-1]': <function electrolyte_diffusivity_Ecker2015 at 0x7fc82c8c18c0>,\n",
       " 'Initial concentration in electrolyte [mol.m-3]': 1000.0,\n",
       " 'Initial concentration in negative electrode [mol.m-3]': 26120.05,\n",
       " 'Initial concentration in positive electrode [mol.m-3]': 12630.8,\n",
       " 'Initial inner SEI thickness [m]': 2.5e-09,\n",
       " 'Initial outer SEI thickness [m]': 2.5e-09,\n",
       " 'Initial temperature [K]': 298.15,\n",
       " 'Inner SEI electron conductivity [S.m-1]': 8.95e-14,\n",
       " 'Inner SEI lithium interstitial diffusivity [m2.s-1]': 1.0000000000000001e-20,\n",
       " 'Inner SEI open-circuit potential [V]': 0.1,\n",
       " 'Inner SEI partial molar volume [m3.mol-1]': 9.585e-05,\n",
       " 'Inner SEI reaction proportion': 0.5,\n",
       " 'Lithium interstitial reference concentration [mol.m-3]': 15.0,\n",
       " 'Lower voltage cut-off [V]': 2.5,\n",
       " 'Maximum concentration in negative electrode [mol.m-3]': 31920.0,\n",
       " 'Maximum concentration in positive electrode [mol.m-3]': 48580.0,\n",
       " 'Measured negative electrode OCP [V]': ('graphite_ocp_Ecker2015',\n",
       "                                         array([[0.00151515, 1.43251534],\n",
       "       [0.00606061, 0.86196319],\n",
       "       [0.01060606, 0.79141104],\n",
       "       [0.01666667, 0.6595092 ],\n",
       "       [0.02121212, 0.5797546 ],\n",
       "       [0.02272727, 0.52453988],\n",
       "       [0.03030303, 0.47546012],\n",
       "       [0.03939394, 0.41411043],\n",
       "       [0.04545455, 0.36809816],\n",
       "       [0.0530303 , 0.33128834],\n",
       "       [0.06666667, 0.28220859],\n",
       "       [0.07878788, 0.24846626],\n",
       "       [0.08939394, 0.22392638],\n",
       "       [0.10151515, 0.2208589 ],\n",
       "       [0.12727273, 0.21165644],\n",
       "       [0.14242424, 0.20245399],\n",
       "       [0.15909091, 0.1993865 ],\n",
       "       [0.17727273, 0.19325153],\n",
       "       [0.19393939, 0.18404908],\n",
       "       [0.21363636, 0.1809816 ],\n",
       "       [0.23333333, 0.17177914],\n",
       "       [0.25757576, 0.16564417],\n",
       "       [0.27878788, 0.16257669],\n",
       "       [0.3030303 , 0.15337423],\n",
       "       [0.32878788, 0.14110429],\n",
       "       [0.35151515, 0.13496933],\n",
       "       [0.37121212, 0.13190184],\n",
       "       [0.39242424, 0.12883436],\n",
       "       [0.56818182, 0.12576687],\n",
       "       [0.58787879, 0.12269939],\n",
       "       [0.60606061, 0.11656442],\n",
       "       [0.62727273, 0.10122699],\n",
       "       [0.65454545, 0.09509202],\n",
       "       [0.67424242, 0.09509202],\n",
       "       [0.69393939, 0.08895706],\n",
       "       [0.71818182, 0.08895706],\n",
       "       [0.73939394, 0.08588957],\n",
       "       [0.89090909, 0.08282209],\n",
       "       [0.95606061, 0.08272209],\n",
       "       [0.97727273, 0.0797546 ],\n",
       "       [1.        , 0.07055215]])),\n",
       " 'Measured negative electrode diffusivity [m2.s-1]': ('measured_graphite_diffusivity_Ecker2015',\n",
       "                                                      array([[4.29165947e-02, 2.53189836e-13],\n",
       "       [8.02533800e-02, 4.43829239e-14],\n",
       "       [1.20149569e-01, 3.19474263e-14],\n",
       "       [1.57961207e-01, 2.60779630e-14],\n",
       "       [1.95752274e-01, 2.25590858e-14],\n",
       "       [2.35765033e-01, 1.16865022e-14],\n",
       "       [2.71444120e-01, 1.23869273e-14],\n",
       "       [3.10028894e-01, 2.02919545e-14],\n",
       "       [3.48416526e-01, 3.26047164e-15],\n",
       "       [3.86670445e-01, 7.64015664e-16],\n",
       "       [4.26415779e-01, 8.41774737e-16],\n",
       "       [4.64186274e-01, 7.71709353e-16],\n",
       "       [5.01877913e-01, 8.83792155e-16],\n",
       "       [5.41211822e-01, 3.10917132e-15],\n",
       "       [5.76674911e-01, 6.06218467e-15],\n",
       "       [6.14803689e-01, 3.59593721e-14],\n",
       "       [6.54581594e-01, 2.03230938e-15],\n",
       "       [7.68139935e-01, 7.80266422e-16],\n",
       "       [8.08942973e-01, 7.72894292e-16],\n",
       "       [8.82303413e-01, 9.65829674e-16],\n",
       "       [9.22086460e-01, 9.56699959e-16],\n",
       "       [9.60750090e-01, 1.25457764e-15],\n",
       "       [9.97636023e-01, 1.39568471e-14]])),\n",
       " 'Measured positive electrode OCP [V]': ('nco_ocp_Ecker2015',\n",
       "                                         array([[1.06607849e-03, 4.58426321e+00],\n",
       "       [4.12737800e-02, 4.54243734e+00],\n",
       "       [6.53984009e-02, 4.52965007e+00],\n",
       "       [8.72254388e-02, 4.52332475e+00],\n",
       "       [1.11541525e-01, 4.49893236e+00],\n",
       "       [1.35474681e-01, 4.46985871e+00],\n",
       "       [1.59407836e-01, 4.42953849e+00],\n",
       "       [1.81745448e-01, 4.38920710e+00],\n",
       "       [2.05678604e-01, 4.34213893e+00],\n",
       "       [2.28016216e-01, 4.29955823e+00],\n",
       "       [2.51151600e-01, 4.25473380e+00],\n",
       "       [2.75084755e-01, 4.21666289e+00],\n",
       "       [2.98220139e-01, 4.17858640e+00],\n",
       "       [3.22153295e-01, 4.14726344e+00],\n",
       "       [3.45288679e-01, 4.11143626e+00],\n",
       "       [3.69221834e-01, 4.08236261e+00],\n",
       "       [3.93952762e-01, 4.05554386e+00],\n",
       "       [4.14694830e-01, 4.03094651e+00],\n",
       "       [4.40223529e-01, 4.00638266e+00],\n",
       "       [4.61763369e-01, 3.98404021e+00],\n",
       "       [4.86494297e-01, 3.96846803e+00],\n",
       "       [5.08831909e-01, 3.95287910e+00],\n",
       "       [5.32765064e-01, 3.94179997e+00],\n",
       "       [5.56698220e-01, 3.92397290e+00],\n",
       "       [5.78238060e-01, 3.91962497e+00],\n",
       "       [5.98182357e-01, 3.91301656e+00],\n",
       "       [6.48441983e-01, 3.91111887e+00],\n",
       "       [6.72375139e-01, 3.91128632e+00],\n",
       "       [6.97106067e-01, 3.89796345e+00],\n",
       "       [7.19443679e-01, 3.88237453e+00],\n",
       "       [7.43376834e-01, 3.86004882e+00],\n",
       "       [7.64916674e-01, 3.81746254e+00],\n",
       "       [7.88052058e-01, 3.78838331e+00],\n",
       "       [8.12782986e-01, 3.75931524e+00],\n",
       "       [8.35120598e-01, 3.73247975e+00],\n",
       "       [8.59053753e-01, 3.70790473e+00],\n",
       "       [8.82189137e-01, 3.68107481e+00],\n",
       "       [9.05324521e-01, 3.64974626e+00],\n",
       "       [9.30055448e-01, 3.61168094e+00],\n",
       "       [9.51595288e-01, 3.57809192e+00],\n",
       "       [9.68348497e-01, 3.55796529e+00],\n",
       "       [9.82708391e-01, 3.54232055e+00],\n",
       "       [9.99461600e-01, 3.51994462e+00]])),\n",
       " 'Measured positive electrode diffusivity [m2.s-1]': ('measured_nco_diffusivity_Ecker2015',\n",
       "                                                      array([[1.39432177e-01, 1.82565403e-13],\n",
       "       [2.00000000e-01, 3.32985856e-13],\n",
       "       [2.61829653e-01, 3.08012285e-13],\n",
       "       [3.22397476e-01, 2.63339203e-13],\n",
       "       [3.86750789e-01, 1.98119699e-13],\n",
       "       [4.46056782e-01, 1.41887887e-13],\n",
       "       [5.07886435e-01, 7.20118242e-14],\n",
       "       [5.68454259e-01, 2.85770870e-14],\n",
       "       [6.31545741e-01, 4.54160840e-15],\n",
       "       [6.93375394e-01, 5.47944475e-14],\n",
       "       [7.52681388e-01, 2.02968867e-13],\n",
       "       [8.15772871e-01, 1.58828651e-13],\n",
       "       [8.75078864e-01, 1.34460920e-13],\n",
       "       [9.40694006e-01, 2.05450533e-14],\n",
       "       [1.00000000e+00, 5.44629298e-15]])),\n",
       " 'Negative current collector surface heat transfer coefficient [W.m-2.K-1]': 0.0,\n",
       " 'Negative current collector thickness [m]': 1.4000000000000001e-05,\n",
       " 'Negative electrode Bruggeman coefficient (electrode)': 0.0,\n",
       " 'Negative electrode Bruggeman coefficient (electrolyte)': 1.6372789338386007,\n",
       " 'Negative electrode OCP [V]': <function graphite_ocp_Ecker2015_function at 0x7fc82c8c10e0>,\n",
       " 'Negative electrode OCP entropic change [V.K-1]': 0.0,\n",
       " 'Negative electrode active material volume fraction': 0.372403,\n",
       " 'Negative electrode cation signed stoichiometry': -1.0,\n",
       " 'Negative electrode conductivity [S.m-1]': 14.0,\n",
       " 'Negative electrode diffusivity [m2.s-1]': <function graphite_diffusivity_Ecker2015_up at 0x7fc82d5bc290>,\n",
       " 'Negative electrode electrons in reaction': 1.0,\n",
       " 'Negative electrode exchange-current density [A.m-2]': <function graphite_electrolyte_exchange_current_density_Ecker2015 at 0x7fc82c8c1290>,\n",
       " 'Negative electrode porosity': 0.329,\n",
       " 'Negative electrode thickness [m]': 7.4e-05,\n",
       " 'Negative particle distribution in x': 1.0,\n",
       " 'Negative particle radius [m]': 2.1e-05,\n",
       " 'Negative tab heat transfer coefficient [W.m-2.K-1]': 10.0,\n",
       " 'Number of cells connected in series to make a battery': 1.0,\n",
       " 'Number of electrodes connected in parallel to make a cell': 1.0,\n",
       " 'Outer SEI open-circuit potential [V]': 0.8,\n",
       " 'Outer SEI partial molar volume [m3.mol-1]': 9.585e-05,\n",
       " 'Outer SEI solvent diffusivity [m2.s-1]': 2.5000000000000002e-22,\n",
       " 'Positive current collector surface heat transfer coefficient [W.m-2.K-1]': 0.0,\n",
       " 'Positive current collector thickness [m]': 2.5e-05,\n",
       " 'Positive electrode Bruggeman coefficient (electrode)': 0.0,\n",
       " 'Positive electrode Bruggeman coefficient (electrolyte)': 1.5442267190786427,\n",
       " 'Positive electrode OCP [V]': <function nco_ocp_Ecker2015_function at 0x7fc82c8c1560>,\n",
       " 'Positive electrode OCP entropic change [V.K-1]': 0.0,\n",
       " 'Positive electrode active material volume fraction': 0.40832,\n",
       " 'Positive electrode cation signed stoichiometry': -1.0,\n",
       " 'Positive electrode conductivity [S.m-1]': 68.1,\n",
       " 'Positive electrode diffusivity [m2.s-1]': <function nco_diffusivity_Ecker2015 at 0x7fc82c8c1440>,\n",
       " 'Positive electrode electrons in reaction': 1.0,\n",
       " 'Positive electrode exchange-current density [A.m-2]': <function nco_electrolyte_exchange_current_density_Ecker2015 at 0x7fc82c8c17a0>,\n",
       " 'Positive electrode porosity': 0.296,\n",
       " 'Positive electrode thickness [m]': 5.4000000000000005e-05,\n",
       " 'Positive particle distribution in x': 1.0,\n",
       " 'Positive particle radius [m]': 6.5e-06,\n",
       " 'Positive tab heat transfer coefficient [W.m-2.K-1]': 10.0,\n",
       " 'Ratio of inner and outer SEI exchange current densities': 1.0,\n",
       " 'Reference temperature [K]': 296.15,\n",
       " 'SEI kinetic rate constant [m.s-1]': 1e-12,\n",
       " 'SEI open-circuit potential [V]': 0.4,\n",
       " 'SEI reaction exchange current density [A.m-2]': 1.5e-07,\n",
       " 'SEI resistivity [Ohm.m]': 5000000.0,\n",
       " 'Separator Bruggeman coefficient (electrode)': 0.0,\n",
       " 'Separator Bruggeman coefficient (electrolyte)': 1.9804586773134945,\n",
       " 'Separator porosity': 0.508,\n",
       " 'Separator thickness [m]': 2e-05,\n",
       " 'Total heat transfer coefficient [W.m-2.K-1]': 10.0,\n",
       " 'Typical current [A]': 0.15652,\n",
       " 'Typical electrolyte concentration [mol.m-3]': 1000.0,\n",
       " 'Upper voltage cut-off [V]': 4.2}"
      ]
     },
     "execution_count": 11,
     "metadata": {},
     "output_type": "execute_result"
    }
   ],
   "source": [
    "parameter_values1"
   ]
  },
  {
   "cell_type": "markdown",
   "metadata": {},
   "source": [
    "## Pseudo-OCV"
   ]
  },
  {
   "cell_type": "code",
   "execution_count": 12,
   "metadata": {},
   "outputs": [],
   "source": [
    "C_rates = [1/20]  # C-rates to solve for\n",
    "capacity = parameter_values1[\"Cell capacity [A.h]\"]\n",
    "t_evals = [np.linspace(0, 120800, 10000)] * len(C_rates) # times to return the solution at\n",
    "solutions3 = [None] * len(C_rates)  # empty list that will hold solutions\n",
    "current3 = np.array([])\n",
    "\n",
    "# loop over C-rates\n",
    "for i, C_rate in enumerate(C_rates):\n",
    "    current = C_rate * capacity\n",
    "    sim1.solve(t_eval=t_evals[i], solver=pybamm.CasadiSolver(mode=\"fast\"),inputs={\"Current function [A]\": current})\n",
    "    solutions3[i] = sim1.solution\n",
    "    current3 = np.append(current3, current)"
   ]
  },
  {
   "cell_type": "code",
   "execution_count": 13,
   "metadata": {},
   "outputs": [],
   "source": [
    "C_rates = [1/20]  # C-rates to solve for\n",
    "capacity = parameter_values2[\"Cell capacity [A.h]\"]\n",
    "t_evals = [np.linspace(0, 100800, 10000)] * len(C_rates) # times to return the solution at\n",
    "solutions4 = [None] * len(C_rates)  # empty list that will hold solutions\n",
    "current4 = np.array([])\n",
    "\n",
    "# loop over C-rates\n",
    "for i, C_rate in enumerate(C_rates):\n",
    "    current = C_rate * capacity\n",
    "    sim2.solve(t_eval=t_evals[i], solver=pybamm.CasadiSolver(mode=\"fast\"),inputs={\"Current function [A]\": current})\n",
    "    solutions4[i] = sim2.solution\n",
    "    current4 = np.append(current4, current)"
   ]
  },
  {
   "cell_type": "code",
   "execution_count": 14,
   "metadata": {},
   "outputs": [],
   "source": [
    "# load ocv data\n",
    "voltage_data = pd.read_csv(\"pybamm/input/discharge_data/Ecker_OCV1.csv\", header=None).to_numpy()"
   ]
  },
  {
   "cell_type": "code",
   "execution_count": 15,
   "metadata": {},
   "outputs": [
    {
     "name": "stderr",
     "output_type": "stream",
     "text": [
      "2020-08-21 15:49:12,289 - [WARNING] processed_variable.__call__(510): Calling variable outside interpolation range (returns 'nan')\n",
      "2020-08-21 15:49:37,271 - [WARNING] processed_variable.__call__(510): Calling variable outside interpolation range (returns 'nan')\n"
     ]
    },
    {
     "data": {
      "image/png": "[encoded data removed]",
      "text/plain": [
       "<Figure size 648x432 with 1 Axes>"
      ]
     },
     "metadata": {
      "needs_background": "light"
     },
     "output_type": "display_data"
    }
   ],
   "source": [
    "plt.figure(figsize=[9,6])\n",
    "ax = plt.gca()\n",
    "# ax.spines['right'].set_color('none')\n",
    "# ax.spines['top'].set_color('none')\n",
    "ax.spines['bottom'].set_position(['data',2.7])\n",
    "ax.spines['left'].set_position(['data',0])\n",
    "ax.xaxis.set_ticks_position('bottom')\n",
    "ax.yaxis.set_ticks_position('left')\n",
    "\n",
    "# plot the C/20 results\n",
    "t_sol3 = solutions3[0][\"Time [s]\"].entries\n",
    "t_sol4 = solutions3[0][\"Time [s]\"].entries\n",
    "ax.plot((current3[0] * t_sol3 * 48)/3600, solutions3[0][\"Terminal voltage [V]\"](t_sol3), label=\"coin\", color=\"skyblue\", alpha=0.8)\n",
    "ax.plot((current4[0] * t_sol4 * 48)/3600, solutions4[0][\"Terminal voltage [V]\"](t_sol4), label=\"spherical\", color=\"green\", linestyle='--')\n",
    "ax.plot(voltage_data[:,0], voltage_data[:,1], marker=\"x\", color='orange', label='Experimental', markersize=9, linestyle='')\n",
    "ax.set_xlabel(\"Discharge Capacity [Ah]\")\n",
    "ax.set_ylabel(\"Voltage [V]\")\n",
    "ax.set_title(\"C/20\")\n",
    "ax.legend(loc=\"best\")\n",
    "ax.grid()\n",
    "\n",
    "#plt.xlim(0,9)\n",
    "plt.ylim(2.7,4.2)\n",
    "plt.tight_layout()\n",
    "#plt.savefig('OCV')\n",
    "plt.show()"
   ]
  },
  {
   "cell_type": "code",
   "execution_count": 16,
   "metadata": {},
   "outputs": [
    {
     "name": "stderr",
     "output_type": "stream",
     "text": [
      "2020-08-21 15:49:38,656 - [WARNING] processed_variable.__call__(510): Calling variable outside interpolation range (returns 'nan')\n"
     ]
    },
    {
     "data": {
      "text/plain": [
       "array([4.15145766, 4.15095558, 4.15067179, ...,        nan,        nan,\n",
       "              nan])"
      ]
     },
     "execution_count": 16,
     "metadata": {},
     "output_type": "execute_result"
    }
   ],
   "source": [
    "solutions3[0][\"Terminal voltage [V]\"](t_sol3)"
   ]
  },
  {
   "cell_type": "markdown",
   "metadata": {},
   "source": [
    "## Varying C-rate"
   ]
  },
  {
   "cell_type": "code",
   "execution_count": 17,
   "metadata": {},
   "outputs": [
    {
     "name": "stderr",
     "output_type": "stream",
     "text": [
      "rhs failed: KeyboardInterrupt\n",
      "At t = 0.170357, the right-hand side routine failed in an unrecoverable manner.\n"
     ]
    },
    {
     "ename": "SolverError",
     "evalue": ".../casadi/interfaces/sundials/cvodes_interface.cpp:380: CVode returned \"CV_RHSFUNC_FAIL\". Consult CVODES documentation.",
     "output_type": "error",
     "traceback": [
      "\u001b[0;31m---------------------------------------------------------------------------\u001b[0m",
      "\u001b[0;31mRuntimeError\u001b[0m                              Traceback (most recent call last)",
      "\u001b[0;32m~/FUSE/PyBaMM/pybamm/solvers/casadi_solver.py\u001b[0m in \u001b[0;36m_run_integrator\u001b[0;34m(self, model, y0, inputs, t_eval)\u001b[0m\n\u001b[1;32m    390\u001b[0m                 sol = integrator(\n\u001b[0;32m--> 391\u001b[0;31m                     \u001b[0mx0\u001b[0m\u001b[0;34m=\u001b[0m\u001b[0my0_diff\u001b[0m\u001b[0;34m,\u001b[0m \u001b[0mz0\u001b[0m\u001b[0;34m=\u001b[0m\u001b[0my0_alg\u001b[0m\u001b[0;34m,\u001b[0m \u001b[0mp\u001b[0m\u001b[0;34m=\u001b[0m\u001b[0minputs\u001b[0m\u001b[0;34m,\u001b[0m \u001b[0;34m**\u001b[0m\u001b[0mself\u001b[0m\u001b[0;34m.\u001b[0m\u001b[0mextra_options_call\u001b[0m\u001b[0;34m\u001b[0m\u001b[0;34m\u001b[0m\u001b[0m\n\u001b[0m\u001b[1;32m    392\u001b[0m                 )\n",
      "\u001b[0;32m~/FUSE/pybamm/lib/python3.7/site-packages/casadi/casadi.py\u001b[0m in \u001b[0;36m__call__\u001b[0;34m(self, *args, **kwargs)\u001b[0m\n\u001b[1;32m  13342\u001b[0m     \u001b[0;31m# Named inputs -> return dictionary\u001b[0m\u001b[0;34m\u001b[0m\u001b[0;34m\u001b[0m\u001b[0;34m\u001b[0m\u001b[0m\n\u001b[0;32m> 13343\u001b[0;31m         \u001b[0;32mreturn\u001b[0m \u001b[0mself\u001b[0m\u001b[0;34m.\u001b[0m\u001b[0mcall\u001b[0m\u001b[0;34m(\u001b[0m\u001b[0mkwargs\u001b[0m\u001b[0;34m)\u001b[0m\u001b[0;34m\u001b[0m\u001b[0;34m\u001b[0m\u001b[0m\n\u001b[0m\u001b[1;32m  13344\u001b[0m \u001b[0;34m\u001b[0m\u001b[0m\n",
      "\u001b[0;32m~/FUSE/pybamm/lib/python3.7/site-packages/casadi/casadi.py\u001b[0m in \u001b[0;36mcall\u001b[0;34m(self, *args)\u001b[0m\n\u001b[1;32m  12213\u001b[0m         \"\"\"\n\u001b[0;32m> 12214\u001b[0;31m         \u001b[0;32mreturn\u001b[0m \u001b[0m_casadi\u001b[0m\u001b[0;34m.\u001b[0m\u001b[0mFunction_call\u001b[0m\u001b[0;34m(\u001b[0m\u001b[0mself\u001b[0m\u001b[0;34m,\u001b[0m \u001b[0;34m*\u001b[0m\u001b[0margs\u001b[0m\u001b[0;34m)\u001b[0m\u001b[0;34m\u001b[0m\u001b[0;34m\u001b[0m\u001b[0m\n\u001b[0m\u001b[1;32m  12215\u001b[0m \u001b[0;34m\u001b[0m\u001b[0m\n",
      "\u001b[0;31mRuntimeError\u001b[0m: .../casadi/interfaces/sundials/cvodes_interface.cpp:380: CVode returned \"CV_RHSFUNC_FAIL\". Consult CVODES documentation.",
      "\nDuring handling of the above exception, another exception occurred:\n",
      "\u001b[0;31mSolverError\u001b[0m                               Traceback (most recent call last)",
      "\u001b[0;32m<ipython-input-17-315098314ef2>\u001b[0m in \u001b[0;36m<module>\u001b[0;34m\u001b[0m\n\u001b[1;32m      8\u001b[0m \u001b[0;32mfor\u001b[0m \u001b[0mi\u001b[0m\u001b[0;34m,\u001b[0m \u001b[0mC_rate\u001b[0m \u001b[0;32min\u001b[0m \u001b[0menumerate\u001b[0m\u001b[0;34m(\u001b[0m\u001b[0mC_rates\u001b[0m\u001b[0;34m)\u001b[0m\u001b[0;34m:\u001b[0m\u001b[0;34m\u001b[0m\u001b[0;34m\u001b[0m\u001b[0m\n\u001b[1;32m      9\u001b[0m     \u001b[0mcurrent\u001b[0m \u001b[0;34m=\u001b[0m \u001b[0mC_rate\u001b[0m \u001b[0;34m*\u001b[0m \u001b[0mcapacity\u001b[0m\u001b[0;34m\u001b[0m\u001b[0;34m\u001b[0m\u001b[0m\n\u001b[0;32m---> 10\u001b[0;31m     \u001b[0msim1\u001b[0m\u001b[0;34m.\u001b[0m\u001b[0msolve\u001b[0m\u001b[0;34m(\u001b[0m\u001b[0mt_eval\u001b[0m\u001b[0;34m=\u001b[0m\u001b[0mt_evals\u001b[0m\u001b[0;34m[\u001b[0m\u001b[0mi\u001b[0m\u001b[0;34m]\u001b[0m\u001b[0;34m,\u001b[0m \u001b[0msolver\u001b[0m\u001b[0;34m=\u001b[0m\u001b[0mpybamm\u001b[0m\u001b[0;34m.\u001b[0m\u001b[0mCasadiSolver\u001b[0m\u001b[0;34m(\u001b[0m\u001b[0mmode\u001b[0m\u001b[0;34m=\u001b[0m\u001b[0;34m\"fast\"\u001b[0m\u001b[0;34m)\u001b[0m\u001b[0;34m,\u001b[0m\u001b[0minputs\u001b[0m\u001b[0;34m=\u001b[0m\u001b[0;34m{\u001b[0m\u001b[0;34m\"Current function [A]\"\u001b[0m\u001b[0;34m:\u001b[0m \u001b[0mcurrent\u001b[0m\u001b[0;34m}\u001b[0m\u001b[0;34m)\u001b[0m\u001b[0;34m\u001b[0m\u001b[0;34m\u001b[0m\u001b[0m\n\u001b[0m\u001b[1;32m     11\u001b[0m     \u001b[0msolutions1\u001b[0m\u001b[0;34m[\u001b[0m\u001b[0mi\u001b[0m\u001b[0;34m]\u001b[0m \u001b[0;34m=\u001b[0m \u001b[0msim1\u001b[0m\u001b[0;34m.\u001b[0m\u001b[0msolution\u001b[0m\u001b[0;34m\u001b[0m\u001b[0;34m\u001b[0m\u001b[0m\n\u001b[1;32m     12\u001b[0m     \u001b[0mcurrent1\u001b[0m \u001b[0;34m=\u001b[0m \u001b[0mnp\u001b[0m\u001b[0;34m.\u001b[0m\u001b[0mappend\u001b[0m\u001b[0;34m(\u001b[0m\u001b[0mcurrent1\u001b[0m\u001b[0;34m,\u001b[0m \u001b[0mcurrent\u001b[0m\u001b[0;34m)\u001b[0m\u001b[0;34m\u001b[0m\u001b[0;34m\u001b[0m\u001b[0m\n",
      "\u001b[0;32m~/FUSE/PyBaMM/pybamm/simulation.py\u001b[0m in \u001b[0;36msolve\u001b[0;34m(self, t_eval, solver, external_variables, inputs, check_model)\u001b[0m\n\u001b[1;32m    401\u001b[0m                 \u001b[0mt_eval\u001b[0m\u001b[0;34m,\u001b[0m\u001b[0;34m\u001b[0m\u001b[0;34m\u001b[0m\u001b[0m\n\u001b[1;32m    402\u001b[0m                 \u001b[0mexternal_variables\u001b[0m\u001b[0;34m=\u001b[0m\u001b[0mexternal_variables\u001b[0m\u001b[0;34m,\u001b[0m\u001b[0;34m\u001b[0m\u001b[0;34m\u001b[0m\u001b[0m\n\u001b[0;32m--> 403\u001b[0;31m                 \u001b[0minputs\u001b[0m\u001b[0;34m=\u001b[0m\u001b[0minputs\u001b[0m\u001b[0;34m,\u001b[0m\u001b[0;34m\u001b[0m\u001b[0;34m\u001b[0m\u001b[0m\n\u001b[0m\u001b[1;32m    404\u001b[0m             )\n\u001b[1;32m    405\u001b[0m             \u001b[0mself\u001b[0m\u001b[0;34m.\u001b[0m\u001b[0mt_eval\u001b[0m \u001b[0;34m=\u001b[0m \u001b[0mself\u001b[0m\u001b[0;34m.\u001b[0m\u001b[0m_solution\u001b[0m\u001b[0;34m.\u001b[0m\u001b[0mt\u001b[0m \u001b[0;34m*\u001b[0m \u001b[0mself\u001b[0m\u001b[0;34m.\u001b[0m\u001b[0mmodel\u001b[0m\u001b[0;34m.\u001b[0m\u001b[0mtimescale\u001b[0m\u001b[0;34m.\u001b[0m\u001b[0mevaluate\u001b[0m\u001b[0;34m(\u001b[0m\u001b[0;34m)\u001b[0m\u001b[0;34m\u001b[0m\u001b[0;34m\u001b[0m\u001b[0m\n",
      "\u001b[0;32m~/FUSE/PyBaMM/pybamm/solvers/base_solver.py\u001b[0m in \u001b[0;36msolve\u001b[0;34m(self, model, t_eval, external_variables, inputs)\u001b[0m\n\u001b[1;32m    655\u001b[0m             \u001b[0mtimer\u001b[0m\u001b[0;34m.\u001b[0m\u001b[0mreset\u001b[0m\u001b[0;34m(\u001b[0m\u001b[0;34m)\u001b[0m\u001b[0;34m\u001b[0m\u001b[0;34m\u001b[0m\u001b[0m\n\u001b[1;32m    656\u001b[0m             new_solution = self._integrate(\n\u001b[0;32m--> 657\u001b[0;31m                 \u001b[0mmodel\u001b[0m\u001b[0;34m,\u001b[0m \u001b[0mt_eval_dimensionless\u001b[0m\u001b[0;34m[\u001b[0m\u001b[0mstart_index\u001b[0m\u001b[0;34m:\u001b[0m\u001b[0mend_index\u001b[0m\u001b[0;34m]\u001b[0m\u001b[0;34m,\u001b[0m \u001b[0mext_and_inputs\u001b[0m\u001b[0;34m\u001b[0m\u001b[0;34m\u001b[0m\u001b[0m\n\u001b[0m\u001b[1;32m    658\u001b[0m             )\n\u001b[1;32m    659\u001b[0m             \u001b[0mnew_solution\u001b[0m\u001b[0;34m.\u001b[0m\u001b[0msolve_time\u001b[0m \u001b[0;34m=\u001b[0m \u001b[0mtimer\u001b[0m\u001b[0;34m.\u001b[0m\u001b[0mtime\u001b[0m\u001b[0;34m(\u001b[0m\u001b[0;34m)\u001b[0m\u001b[0;34m\u001b[0m\u001b[0;34m\u001b[0m\u001b[0m\n",
      "\u001b[0;32m~/FUSE/PyBaMM/pybamm/solvers/casadi_solver.py\u001b[0m in \u001b[0;36m_integrate\u001b[0;34m(self, model, t_eval, inputs)\u001b[0m\n\u001b[1;32m    128\u001b[0m             \u001b[0;31m# Create an integrator with the grid (we just need to do this once)\u001b[0m\u001b[0;34m\u001b[0m\u001b[0;34m\u001b[0m\u001b[0;34m\u001b[0m\u001b[0m\n\u001b[1;32m    129\u001b[0m             \u001b[0mself\u001b[0m\u001b[0;34m.\u001b[0m\u001b[0mcreate_integrator\u001b[0m\u001b[0;34m(\u001b[0m\u001b[0mmodel\u001b[0m\u001b[0;34m,\u001b[0m \u001b[0minputs\u001b[0m\u001b[0;34m,\u001b[0m \u001b[0mt_eval\u001b[0m\u001b[0;34m)\u001b[0m\u001b[0;34m\u001b[0m\u001b[0;34m\u001b[0m\u001b[0m\n\u001b[0;32m--> 130\u001b[0;31m             \u001b[0msolution\u001b[0m \u001b[0;34m=\u001b[0m \u001b[0mself\u001b[0m\u001b[0;34m.\u001b[0m\u001b[0m_run_integrator\u001b[0m\u001b[0;34m(\u001b[0m\u001b[0mmodel\u001b[0m\u001b[0;34m,\u001b[0m \u001b[0mmodel\u001b[0m\u001b[0;34m.\u001b[0m\u001b[0my0\u001b[0m\u001b[0;34m,\u001b[0m \u001b[0minputs\u001b[0m\u001b[0;34m,\u001b[0m \u001b[0mt_eval\u001b[0m\u001b[0;34m)\u001b[0m\u001b[0;34m\u001b[0m\u001b[0;34m\u001b[0m\u001b[0m\n\u001b[0m\u001b[1;32m    131\u001b[0m             \u001b[0msolution\u001b[0m\u001b[0;34m.\u001b[0m\u001b[0mtermination\u001b[0m \u001b[0;34m=\u001b[0m \u001b[0;34m\"final time\"\u001b[0m\u001b[0;34m\u001b[0m\u001b[0;34m\u001b[0m\u001b[0m\n\u001b[1;32m    132\u001b[0m             \u001b[0;32mreturn\u001b[0m \u001b[0msolution\u001b[0m\u001b[0;34m\u001b[0m\u001b[0;34m\u001b[0m\u001b[0m\n",
      "\u001b[0;32m~/FUSE/PyBaMM/pybamm/solvers/casadi_solver.py\u001b[0m in \u001b[0;36m_run_integrator\u001b[0;34m(self, model, y0, inputs, t_eval)\u001b[0m\n\u001b[1;32m    418\u001b[0m         \u001b[0;32mexcept\u001b[0m \u001b[0mRuntimeError\u001b[0m \u001b[0;32mas\u001b[0m \u001b[0me\u001b[0m\u001b[0;34m:\u001b[0m\u001b[0;34m\u001b[0m\u001b[0;34m\u001b[0m\u001b[0m\n\u001b[1;32m    419\u001b[0m             \u001b[0;31m# If it doesn't work raise error\u001b[0m\u001b[0;34m\u001b[0m\u001b[0;34m\u001b[0m\u001b[0;34m\u001b[0m\u001b[0m\n\u001b[0;32m--> 420\u001b[0;31m             \u001b[0;32mraise\u001b[0m \u001b[0mpybamm\u001b[0m\u001b[0;34m.\u001b[0m\u001b[0mSolverError\u001b[0m\u001b[0;34m(\u001b[0m\u001b[0me\u001b[0m\u001b[0;34m.\u001b[0m\u001b[0margs\u001b[0m\u001b[0;34m[\u001b[0m\u001b[0;36m0\u001b[0m\u001b[0;34m]\u001b[0m\u001b[0;34m)\u001b[0m\u001b[0;34m\u001b[0m\u001b[0;34m\u001b[0m\u001b[0m\n\u001b[0m\u001b[1;32m    421\u001b[0m \u001b[0;34m\u001b[0m\u001b[0m\n",
      "\u001b[0;31mSolverError\u001b[0m: .../casadi/interfaces/sundials/cvodes_interface.cpp:380: CVode returned \"CV_RHSFUNC_FAIL\". Consult CVODES documentation."
     ]
    }
   ],
   "source": [
    "C_rates = [0.25, 1, 3, 5]  # C-rates to solve for\n",
    "capacity = parameter_values1[\"Cell capacity [A.h]\"]\n",
    "t_evals = [np.linspace(0, 20000, 10000)] * len(C_rates) # times to return the solution at\n",
    "solutions1 = [None] * len(C_rates)  # empty list that will hold solutions\n",
    "current1 = np.array([])\n",
    "\n",
    "# loop over C-rates\n",
    "for i, C_rate in enumerate(C_rates):\n",
    "    current = C_rate * capacity\n",
    "    sim1.solve(t_eval=t_evals[i], solver=pybamm.CasadiSolver(mode=\"fast\"),inputs={\"Current function [A]\": current})\n",
    "    solutions1[i] = sim1.solution\n",
    "    current1 = np.append(current1, current)"
   ]
  },
  {
   "cell_type": "code",
   "execution_count": null,
   "metadata": {},
   "outputs": [],
   "source": [
    "C_rates = [0.25, 1, 3, 5]  # C-rates to solve for\n",
    "capacity = parameter_values2[\"Cell capacity [A.h]\"]\n",
    "t_evals = [np.linspace(0, 20000, 10000)] * len(C_rates) # times to return the solution at\n",
    "solutions2 = [None] * len(C_rates)  # empty list that will hold solutions\n",
    "current2 = np.array([])\n",
    "\n",
    "# loop over C-rates\n",
    "for i, C_rate in enumerate(C_rates):\n",
    "    current = C_rate * capacity\n",
    "    sim2.solve(t_eval=t_evals[i], solver=pybamm.CasadiSolver(mode=\"fast\"),inputs={\"Current function [A]\": current})\n",
    "    solutions2[i] = sim2.solution\n",
    "    current2 = np.append(current2, current)"
   ]
  },
  {
   "cell_type": "code",
   "execution_count": null,
   "metadata": {},
   "outputs": [],
   "source": [
    "plt.figure(figsize=[9,6])\n",
    "ax = plt.gca()\n",
    "# plot the 0.25C - 5C results\n",
    "t_sol1c = solutions1[1][\"Time [s]\"].entries\n",
    "t_sol1s = solutions2[1][\"Time [s]\"].entries\n",
    "t_sol2c = solutions1[2][\"Time [s]\"].entries\n",
    "t_sol2s = solutions2[2][\"Time [s]\"].entries\n",
    "t_sol3c = solutions1[3][\"Time [s]\"].entries\n",
    "t_sol3s = solutions2[3][\"Time [s]\"].entries\n",
    "t_sol4c = solutions1[4][\"Time [s]\"].entries\n",
    "t_sol4s = solutions2[4][\"Time [s]\"].entries\n",
    "ax.plot((current1[1] * t_sol1c * 48)/3600, solutions1[1][\"Terminal voltage [V]\"](t_sol1c), label=\"0.25C coin\", color=\"green\", alpha=0.8)\n",
    "ax.plot((current2[1] * t_sol1s * 48)/3600, solutions2[1][\"Terminal voltage [V]\"](t_sol1s), label=\"0.25C spherical\", color=\"green\", linestyle='--')\n",
    "ax.plot((current1[2] * t_sol2c * 48)/3600, solutions1[2][\"Terminal voltage [V]\"](t_sol2c), label=\"1C coin\", color=\"skyblue\", alpha=0.8)\n",
    "ax.plot((current2[2] * t_sol2s * 48)/3600, solutions2[2][\"Terminal voltage [V]\"](t_sol2s), label=\"1C spherical\", color=\"skyblue\", linestyle='--')\n",
    "ax.plot((current1[3] * t_sol3c * 48)/3600, solutions1[3][\"Terminal voltage [V]\"](t_sol3c), label=\"3C coin\", color=\"pink\", alpha=0.8)\n",
    "ax.plot((current2[3] * t_sol3s * 48)/3600, solutions2[3][\"Terminal voltage [V]\"](t_sol3s), label=\"3C spherical\", color=\"pink\", linestyle='--')\n",
    "ax.plot((current1[4] * t_sol4c * 48)/3600, solutions1[4][\"Terminal voltage [V]\"](t_sol4c), label=\"5C coin\", color=\"brown\", alpha=0.8)\n",
    "ax.plot((current2[4] * t_sol4s * 48)/3600, solutions2[4][\"Terminal voltage [V]\"](t_sol4s), label=\"5C spherical\", color=\"brown\", linestyle='--')\n",
    "ax.set_xlabel(\"Discharge Capacity [Ah]\")\n",
    "ax.set_ylabel(\"Voltage [V]\")\n",
    "ax.set_title(\"0.25C - 5C, 25 °C\")\n",
    "ax.legend(loc=\"best\")\n",
    "\n",
    "plt.ylim(2.7,4.2)\n",
    "plt.tight_layout()\n",
    "plt.show()"
   ]
  },
  {
   "cell_type": "code",
   "execution_count": null,
   "metadata": {},
   "outputs": [],
   "source": []
  }
 ],
 "metadata": {
  "kernelspec": {
   "display_name": "Python 3",
   "language": "python",
   "name": "python3"
  },
  "language_info": {
   "codemirror_mode": {
    "name": "ipython",
    "version": 3
   },
   "file_extension": ".py",
   "mimetype": "text/x-python",
   "name": "python",
   "nbconvert_exporter": "python",
   "pygments_lexer": "ipython3",
   "version": "3.7.8"
  }
 },
 "nbformat": 4,
 "nbformat_minor": 4
}
