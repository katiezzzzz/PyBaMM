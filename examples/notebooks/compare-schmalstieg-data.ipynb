{
 "cells": [
  {
   "cell_type": "markdown",
   "metadata": {},
   "source": [
    "# Comparing with Schmalstieg Experimental Discharge Data"
   ]
  },
  {
   "cell_type": "markdown",
   "metadata": {},
   "source": [
    "Validating parameter set (Figure 7 of part II paper)"
   ]
  },
  {
   "cell_type": "code",
   "execution_count": 1,
   "metadata": {},
   "outputs": [
    {
     "name": "stdout",
     "output_type": "stream",
     "text": [
      "The history saving thread hit an unexpected error (DatabaseError('database disk image is malformed')).History will not be written to the database.\n",
      "\u001b[33mWARNING: You are using pip version 20.2.2; however, version 20.2.3 is available.\n",
      "You should consider upgrading via the '/home/katiez/FUSE/pybamm/bin/python3.7 -m pip install --upgrade pip' command.\u001b[0m\n",
      "Note: you may need to restart the kernel to use updated packages.\n"
     ]
    }
   ],
   "source": [
    "%pip install pybamm -q    # install PyBaMM if it is not installed\n",
    "import pybamm\n",
    "import os\n",
    "import pandas as pd\n",
    "import numpy as np\n",
    "import matplotlib.pyplot as plt\n",
    "os.chdir(pybamm.__path__[0]+'/..')"
   ]
  },
  {
   "cell_type": "markdown",
   "metadata": {},
   "source": [
    "Load Schmalstieg discharge data\n",
    "\n",
    "Time [s] vs Voltage [V]"
   ]
  },
  {
   "cell_type": "code",
   "execution_count": 2,
   "metadata": {},
   "outputs": [],
   "source": [
    "voltage_data_1C = pd.read_csv(\"pybamm/input/discharge_data/Schmalstieg_1C_25degrees.csv\", header=None).to_numpy()\n",
    "voltage_data_2C = pd.read_csv(\"pybamm/input/discharge_data/Schmalstieg_2C_25degrees.csv\", header=None).to_numpy()\n",
    "voltage_data_3C = pd.read_csv(\"pybamm/input/discharge_data/Schmalstieg_3C_25degrees.csv\", header=None).to_numpy()\n",
    "voltage_data_5C = pd.read_csv(\"pybamm/input/discharge_data/Schmalstieg_5C_25degrees.csv\", header=None).to_numpy()"
   ]
  },
  {
   "cell_type": "markdown",
   "metadata": {},
   "source": [
    "Import model and parameter set"
   ]
  },
  {
   "cell_type": "code",
   "execution_count": 3,
   "metadata": {},
   "outputs": [],
   "source": [
    "# choose DFN\n",
    "model = pybamm.lithium_ion.DFN()\n",
    "\n",
    "# pick parameters, keeping C-rate as an input to be changed for each solve\n",
    "chemistry = pybamm.parameter_sets.Schmalstieg2018\n",
    "parameter_values = pybamm.ParameterValues(chemistry=chemistry)\n",
    "parameter_values.update({\"Current function [A]\": \"[input]\"})"
   ]
  },
  {
   "cell_type": "markdown",
   "metadata": {},
   "source": [
    "Print parameter set"
   ]
  },
  {
   "cell_type": "code",
   "execution_count": 4,
   "metadata": {},
   "outputs": [
    {
     "data": {
      "text/plain": [
       "{'1 + dlnf/dlnc': 1.0,\n",
       " 'Ambient temperature [K]': 298.15,\n",
       " 'Bulk solvent concentration [mol.m-3]': 2636.0,\n",
       " 'Cation transference number': 0.26,\n",
       " 'Cell capacity [A.h]': 7.0,\n",
       " 'Cell cooling surface area [m2]': 0.89,\n",
       " 'Cell volume [m3]': 5.28e-05,\n",
       " 'Current function [A]': InputParameter(-0x49db7630a7720d16, Current function [A], children=[], domain=[], auxiliary_domains={}),\n",
       " 'EC diffusivity [m2.s-1]': 2e-18,\n",
       " 'EC initial concentration in electrolyte [mol.m-3]': 4541.0,\n",
       " 'Electrode height [m]': 3.75,\n",
       " 'Electrode width [m]': 0.1185,\n",
       " 'Electrolyte conductivity [S.m-1]': <function electrolyte_conductivity_Schmalstieg2018 at 0x7fb81268e3b0>,\n",
       " 'Electrolyte diffusivity [m2.s-1]': <function electrolyte_diffusivity_Schmalstieg2018 at 0x7fb81268e170>,\n",
       " 'Initial concentration in electrolyte [mol.m-3]': 1000.0,\n",
       " 'Initial concentration in negative electrode [mol.m-3]': 27234.87,\n",
       " 'Initial concentration in positive electrode [mol.m-3]': 21059.33,\n",
       " 'Initial inner SEI thickness [m]': 2.5e-09,\n",
       " 'Initial outer SEI thickness [m]': 2.5e-09,\n",
       " 'Initial temperature [K]': 298.15,\n",
       " 'Inner SEI electron conductivity [S.m-1]': 8.95e-14,\n",
       " 'Inner SEI lithium interstitial diffusivity [m2.s-1]': 1.0000000000000001e-20,\n",
       " 'Inner SEI open-circuit potential [V]': 0.1,\n",
       " 'Inner SEI partial molar volume [m3.mol-1]': 9.585e-05,\n",
       " 'Inner SEI reaction proportion': 0.5,\n",
       " 'Lithium interstitial reference concentration [mol.m-3]': 15.0,\n",
       " 'Lower voltage cut-off [V]': 3.0,\n",
       " 'Maximum concentration in negative electrode [mol.m-3]': 31390.0,\n",
       " 'Maximum concentration in positive electrode [mol.m-3]': 48390.0,\n",
       " 'Measured negative electrode OCP [V]': ('graphite_ocp_Schmalstieg2018',\n",
       "                                         array([[0.      , 1.98    ],\n",
       "       [0.005   , 1.3753  ],\n",
       "       [0.01    , 0.79693 ],\n",
       "       [0.015   , 0.59233 ],\n",
       "       [0.02    , 0.49819 ],\n",
       "       [0.025   , 0.43122 ],\n",
       "       [0.03    , 0.37895 ],\n",
       "       [0.035   , 0.33653 ],\n",
       "       [0.04    , 0.301   ],\n",
       "       [0.045   , 0.27105 ],\n",
       "       [0.05    , 0.24653 ],\n",
       "       [0.055   , 0.23115 ],\n",
       "       [0.06    , 0.22469 ],\n",
       "       [0.075   , 0.21871 ],\n",
       "       [0.1     , 0.21549 ],\n",
       "       [0.125   , 0.21231 ],\n",
       "       [0.15    , 0.18738 ],\n",
       "       [0.175   , 0.16684 ],\n",
       "       [0.2     , 0.1564  ],\n",
       "       [0.225   , 0.14578 ],\n",
       "       [0.25    , 0.13901 ],\n",
       "       [0.275   , 0.13443 ],\n",
       "       [0.3     , 0.13214 ],\n",
       "       [0.325   , 0.13131 ],\n",
       "       [0.35    , 0.13081 ],\n",
       "       [0.375   , 0.13043 ],\n",
       "       [0.4     , 0.13005 ],\n",
       "       [0.425   , 0.12966 ],\n",
       "       [0.45    , 0.12909 ],\n",
       "       [0.475   , 0.12808 ],\n",
       "       [0.5     , 0.1233  ],\n",
       "       [0.525   , 0.10733 ],\n",
       "       [0.55    , 0.096514],\n",
       "       [0.575   , 0.093325],\n",
       "       [0.6     , 0.091909],\n",
       "       [0.625   , 0.091803],\n",
       "       [0.65    , 0.091718],\n",
       "       [0.675   , 0.091528],\n",
       "       [0.7     , 0.091337],\n",
       "       [0.725   , 0.091146],\n",
       "       [0.75    , 0.090956],\n",
       "       [0.775   , 0.090765],\n",
       "       [0.8     , 0.090383],\n",
       "       [0.825   , 0.089811],\n",
       "       [0.85    , 0.089239],\n",
       "       [0.875   , 0.088337],\n",
       "       [0.9     , 0.087142],\n",
       "       [0.925   , 0.084854],\n",
       "       [0.95    , 0.079515],\n",
       "       [0.975   , 0.064943],\n",
       "       [1.      , 0.012394]])),\n",
       " 'Measured positive electrode OCP [V]': ('nmc_ocp_Schmalstieg2018',\n",
       "                                         array([[0.    , 5.3254],\n",
       "       [0.05  , 5.1944],\n",
       "       [0.1   , 5.0635],\n",
       "       [0.15  , 4.9325],\n",
       "       [0.2   , 4.8016],\n",
       "       [0.25  , 4.6706],\n",
       "       [0.3   , 4.5397],\n",
       "       [0.35  , 4.4232],\n",
       "       [0.4   , 4.3106],\n",
       "       [0.45  , 4.1935],\n",
       "       [0.5   , 4.0875],\n",
       "       [0.55  , 3.9926],\n",
       "       [0.6   , 3.9113],\n",
       "       [0.65  , 3.849 ],\n",
       "       [0.7   , 3.8057],\n",
       "       [0.75  , 3.7752],\n",
       "       [0.8   , 3.7502],\n",
       "       [0.85  , 3.7245],\n",
       "       [0.9   , 3.694 ],\n",
       "       [0.95  , 3.6495],\n",
       "       [0.97  , 3.6195],\n",
       "       [0.98  , 3.5947],\n",
       "       [0.99  , 3.5338],\n",
       "       [1.    , 3.0132]])),\n",
       " 'Negative current collector specific heat capacity [J.kg-1.K-1]': 0.0,\n",
       " 'Negative current collector thermal conductivity [W.m-1.K-1]': 0.0,\n",
       " 'Negative current collector thickness [m]': 5e-06,\n",
       " 'Negative electrode Bruggeman coefficient (electrode)': 0.0,\n",
       " 'Negative electrode Bruggeman coefficient (electrolyte)': 1.52,\n",
       " 'Negative electrode OCP [V]': <function graphite_ocp_Schmalstieg2018_function at 0x7fb812ba3a70>,\n",
       " 'Negative electrode OCP entropic change [V.K-1]': 0.0,\n",
       " 'Negative electrode active material volume fraction': 0.4925,\n",
       " 'Negative electrode cation signed stoichiometry': -1.0,\n",
       " 'Negative electrode conductivity [S.m-1]': 1000.0,\n",
       " 'Negative electrode density [kg.m-3]': 2260.0,\n",
       " 'Negative electrode diffusivity [m2.s-1]': <function graphite_diffusivity_Schmalstieg2018 at 0x7fb812ba3950>,\n",
       " 'Negative electrode double-layer capacity [F.m-2]': 1.47,\n",
       " 'Negative electrode electrons in reaction': 1.0,\n",
       " 'Negative electrode exchange-current density [A.m-2]': <function graphite_electrolyte_exchange_current_density_Schmalstieg2018 at 0x7fb812ba3cb0>,\n",
       " 'Negative electrode porosity': 0.292,\n",
       " 'Negative electrode specific heat capacity [J.kg-1.K-1]': 0.0,\n",
       " 'Negative electrode thermal conductivity [W.m-1.K-1]': 0.0,\n",
       " 'Negative electrode thickness [m]': 4.66e-05,\n",
       " 'Negative particle distribution in x': 1.0,\n",
       " 'Negative particle radius [m]': 6.3e-06,\n",
       " 'Number of cells connected in series to make a battery': 1.0,\n",
       " 'Number of electrodes connected in parallel to make a cell': 1.0,\n",
       " 'Outer SEI open-circuit potential [V]': 0.8,\n",
       " 'Outer SEI partial molar volume [m3.mol-1]': 9.585e-05,\n",
       " 'Outer SEI solvent diffusivity [m2.s-1]': 2.5000000000000002e-22,\n",
       " 'Positive current collector specific heat capacity [J.kg-1.K-1]': 0.0,\n",
       " 'Positive current collector thermal conductivity [W.m-1.K-1]': 0.0,\n",
       " 'Positive current collector thickness [m]': 5.5e-06,\n",
       " 'Positive electrode Bruggeman coefficient (electrode)': 0.0,\n",
       " 'Positive electrode Bruggeman coefficient (electrolyte)': 1.44,\n",
       " 'Positive electrode OCP [V]': <function nmc_ocp_Schmalstieg2018_function at 0x7fb812ba3e60>,\n",
       " 'Positive electrode OCP entropic change [V.K-1]': 0.0,\n",
       " 'Positive electrode active material volume fraction': 0.5724,\n",
       " 'Positive electrode cation signed stoichiometry': -1.0,\n",
       " 'Positive electrode conductivity [S.m-1]': 10.0,\n",
       " 'Positive electrode density [kg.m-3]': 4670.0,\n",
       " 'Positive electrode diffusivity [m2.s-1]': <function nmc_diffusivity_Schmalstieg2018 at 0x7fb812ba3dd0>,\n",
       " 'Positive electrode double-layer capacity [F.m-2]': 0.198,\n",
       " 'Positive electrode electrons in reaction': 1.0,\n",
       " 'Positive electrode exchange-current density [A.m-2]': <function nmc_electrolyte_exchange_current_density_Schmalstieg2018 at 0x7fb81268e050>,\n",
       " 'Positive electrode porosity': 0.209,\n",
       " 'Positive electrode specific heat capacity [J.kg-1.K-1]': 0.0,\n",
       " 'Positive electrode thermal conductivity [W.m-1.K-1]': 0.0,\n",
       " 'Positive electrode thickness [m]': 4.3e-05,\n",
       " 'Positive particle distribution in x': 1.0,\n",
       " 'Positive particle radius [m]': 2.13e-06,\n",
       " 'Ratio of inner and outer SEI exchange current densities': 1.0,\n",
       " 'Reference OCP vs SHE in the positive electrode [V]': nan,\n",
       " 'Reference temperature [K]': 298.15,\n",
       " 'SEI kinetic rate constant [m.s-1]': 1e-12,\n",
       " 'SEI open-circuit potential [V]': 0.4,\n",
       " 'SEI reaction exchange current density [A.m-2]': 1.5e-07,\n",
       " 'SEI resistivity [Ohm.m]': 5000000.0,\n",
       " 'Separator Bruggeman coefficient (electrode)': 0.0,\n",
       " 'Separator Bruggeman coefficient (electrolyte)': 1.62,\n",
       " 'Separator density [kg.m-3]': 397.0,\n",
       " 'Separator porosity': 0.3949,\n",
       " 'Separator specific heat capacity [J.kg-1.K-1]': 200000.0,\n",
       " 'Separator thermal conductivity [W.m-1.K-1]': 118000.0,\n",
       " 'Separator thickness [m]': 1.87e-05,\n",
       " 'Total heat transfer coefficient [W.m-2.K-1]': 1.135,\n",
       " 'Typical current [A]': 7.0,\n",
       " 'Typical electrolyte concentration [mol.m-3]': 1000.0,\n",
       " 'Upper voltage cut-off [V]': 4.2}"
      ]
     },
     "execution_count": 4,
     "metadata": {},
     "output_type": "execute_result"
    }
   ],
   "source": [
    "parameter_values"
   ]
  },
  {
   "cell_type": "markdown",
   "metadata": {},
   "source": [
    "Choose mesh"
   ]
  },
  {
   "cell_type": "code",
   "execution_count": 5,
   "metadata": {},
   "outputs": [],
   "source": [
    "var = pybamm.standard_spatial_vars\n",
    "var_pts = {\n",
    "    var.x_n: int(parameter_values.evaluate(model.param.L_n / 1e-6)),\n",
    "    var.x_s: int(parameter_values.evaluate(model.param.L_s / 1e-6)),\n",
    "    var.x_p: int(parameter_values.evaluate(model.param.L_p / 1e-6)),\n",
    "    var.r_n: int(parameter_values.evaluate(model.param.R_n / 1e-7)),\n",
    "    var.r_p: int(parameter_values.evaluate(model.param.R_p / 1e-7)),\n",
    "}"
   ]
  },
  {
   "cell_type": "markdown",
   "metadata": {},
   "source": [
    "Create simulation"
   ]
  },
  {
   "cell_type": "code",
   "execution_count": 6,
   "metadata": {},
   "outputs": [],
   "source": [
    "sim =  pybamm.Simulation(model, parameter_values=parameter_values, var_pts=var_pts)"
   ]
  },
  {
   "cell_type": "markdown",
   "metadata": {},
   "source": [
    "C/20"
   ]
  },
  {
   "cell_type": "code",
   "execution_count": 8,
   "metadata": {},
   "outputs": [],
   "source": [
    "C_rates = [1/20]  # C-rates to solve for\n",
    "capacity = parameter_values[\"Cell capacity [A.h]\"]\n",
    "t_evals = [\n",
    "    np.linspace(0, 50800, 5000)\n",
    "] # times to return the solution at\n",
    "solutions = [None] * len(C_rates)  # empty list that will hold solutions\n",
    "\n",
    "# loop over C-rates\n",
    "for i, C_rate in enumerate(C_rates):\n",
    "    current = C_rate * capacity\n",
    "    sim.solve(t_eval=t_evals[i], solver=pybamm.CasadiSolver(mode=\"fast\"),inputs={\"Current function [A]\": current})\n",
    "    solutions[i] = sim.solution"
   ]
  },
  {
   "cell_type": "code",
   "execution_count": 9,
   "metadata": {},
   "outputs": [
    {
     "name": "stderr",
     "output_type": "stream",
     "text": [
      "2020-09-18 18:19:57,737 - [WARNING] legend._parse_legend_args(1247): No handles with labels found to put in legend.\n"
     ]
    },
    {
     "data": {
      "image/png": "[encoded data removed]",
      "text/plain": [
       "<Figure size 936x576 with 1 Axes>"
      ]
     },
     "metadata": {
      "needs_background": "light"
     },
     "output_type": "display_data"
    }
   ],
   "source": [
    "plt.figure(figsize=(13, 8))\n",
    "\n",
    "t_sol = solutions[0][\"Time [s]\"].entries\n",
    "plt.plot(t_sol, solutions[0][\"Terminal voltage [V]\"](t_sol))\n",
    "plt.xlabel(\"Time [s]\")\n",
    "plt.ylabel(\"Voltage [V]\")\n",
    "plt.title(\"C/20\")\n",
    "plt.legend(loc=\"best\")\n",
    "\n",
    "plt.show()"
   ]
  },
  {
   "cell_type": "markdown",
   "metadata": {},
   "source": [
    "Solve for 1C, 2C, 3C and 5C"
   ]
  },
  {
   "cell_type": "code",
   "execution_count": null,
   "metadata": {},
   "outputs": [],
   "source": [
    "C_rates = [1, 2, 3, 5]  # C-rates to solve for\n",
    "capacity = parameter_values[\"Cell capacity [A.h]\"]\n",
    "t_evals = [\n",
    "    np.linspace(0, 3200, 100), \n",
    "    np.linspace(0, 1540, 100), \n",
    "    np.linspace(0, 1020, 100), \n",
    "    np.linspace(0, 610, 100)\n",
    "] # times to return the solution at\n",
    "solutions = [None] * len(C_rates)  # empty list that will hold solutions\n",
    "\n",
    "# loop over C-rates\n",
    "for i, C_rate in enumerate(C_rates):\n",
    "    current = C_rate * capacity\n",
    "    sim.solve(t_eval=t_evals[i], solver=pybamm.CasadiSolver(mode=\"fast\"),inputs={\"Current function [A]\": current})\n",
    "    solutions[i] = sim.solution"
   ]
  },
  {
   "cell_type": "code",
   "execution_count": null,
   "metadata": {},
   "outputs": [],
   "source": [
    "fig, (ax1, ax2) = plt.subplots(1, 2, figsize=(13, 4))\n",
    "\n",
    "# plot the 1C results\n",
    "t_sol = solutions[0][\"Time [s]\"].entries\n",
    "ax1.plot(t_sol, solutions[0][\"Terminal voltage [V]\"](t_sol))\n",
    "ax1.plot(voltage_data_1C[:,0], voltage_data_1C[:,1], \"o\")\n",
    "ax1.set_xlabel(\"Time [s]\")\n",
    "ax1.set_ylabel(\"Voltage [V]\")\n",
    "ax1.set_title(\"1C\")\n",
    "ax1.legend([\"DFN\", \"Experiment\"], loc=\"best\")\n",
    "\n",
    "# plot the 2C results\n",
    "t_sol = solutions[1][\"Time [s]\"].entries\n",
    "ax2.plot(t_sol, solutions[1][\"Terminal voltage [V]\"](t_sol))\n",
    "ax2.plot(voltage_data_2C[:,0], voltage_data_2C[:,1], \"o\")\n",
    "ax2.set_xlabel(\"Time [s]\")\n",
    "ax2.set_ylabel(\"Voltage [V]\")\n",
    "ax2.set_title(\"2C\")\n",
    "ax2.legend([\"DFN\", \"Experiment\"], loc=\"best\")\n",
    "\n",
    "plt.tight_layout()\n",
    "plt.show()"
   ]
  },
  {
   "cell_type": "code",
   "execution_count": null,
   "metadata": {},
   "outputs": [],
   "source": [
    "fig, (ax1, ax2) = plt.subplots(1, 2, figsize=(13, 4))\n",
    "\n",
    "# plot the 3C results\n",
    "t_sol = solutions[2][\"Time [s]\"].entries\n",
    "ax1.plot(t_sol, solutions[2][\"Terminal voltage [V]\"](t_sol))\n",
    "ax1.plot(voltage_data_3C[:,0], voltage_data_3C[:,1], \"o\")\n",
    "ax1.set_xlabel(\"Time [s]\")\n",
    "ax1.set_ylabel(\"Voltage [V]\")\n",
    "ax1.set_title(\"3C\")\n",
    "ax1.legend([\"DFN\", \"Experiment\"], loc=\"best\")\n",
    "\n",
    "# plot the 5C results\n",
    "t_sol = solutions[3][\"Time [s]\"].entries\n",
    "ax2.plot(t_sol, solutions[3][\"Terminal voltage [V]\"](t_sol))\n",
    "ax2.plot(voltage_data_5C[:,0], voltage_data_5C[:,1], \"o\")\n",
    "ax2.set_xlabel(\"Time [s]\")\n",
    "ax2.set_ylabel(\"Voltage [V]\")\n",
    "ax2.set_title(\"5C\")\n",
    "ax2.legend([\"DFN\", \"Experiment\"], loc=\"best\")\n",
    "\n",
    "plt.tight_layout()\n",
    "plt.show()"
   ]
  },
  {
   "cell_type": "code",
   "execution_count": null,
   "metadata": {},
   "outputs": [],
   "source": []
  }
 ],
 "metadata": {
  "kernelspec": {
   "display_name": "Python 3",
   "language": "python",
   "name": "python3"
  },
  "language_info": {
   "codemirror_mode": {
    "name": "ipython",
    "version": 3
   },
   "file_extension": ".py",
   "mimetype": "text/x-python",
   "name": "python",
   "nbconvert_exporter": "python",
   "pygments_lexer": "ipython3",
   "version": "3.7.9"
  }
 },
 "nbformat": 4,
 "nbformat_minor": 4
}
