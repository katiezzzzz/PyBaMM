{
 "cells": [
  {
   "cell_type": "markdown",
   "metadata": {},
   "source": [
    "# Comparing Ecker Data using Particle Size Distribution Basic DFN"
   ]
  },
  {
   "cell_type": "markdown",
   "metadata": {},
   "source": [
    "Try and implement basic DFN with variable particle sizes"
   ]
  },
  {
   "cell_type": "code",
   "execution_count": 1,
   "metadata": {},
   "outputs": [
    {
     "name": "stdout",
     "output_type": "stream",
     "text": [
      "The history saving thread hit an unexpected error (DatabaseError('database disk image is malformed')).History will not be written to the database.\n",
      "Note: you may need to restart the kernel to use updated packages.\n"
     ]
    }
   ],
   "source": [
    "%pip install pybamm -q    # install PyBaMM if it is not installed\n",
    "import pybamm\n",
    "import os\n",
    "import pandas as pd\n",
    "import numpy as np\n",
    "import matplotlib.pyplot as plt\n",
    "os.chdir(pybamm.__path__[0]+'/..')"
   ]
  },
  {
   "cell_type": "code",
   "execution_count": 2,
   "metadata": {},
   "outputs": [],
   "source": [
    "chemistry = pybamm.parameter_sets.Ecker2015\n",
    "var = pybamm.standard_spatial_vars"
   ]
  },
  {
   "cell_type": "code",
   "execution_count": 3,
   "metadata": {},
   "outputs": [],
   "source": [
    "# load ecker data\n",
    "voltage_data_1C = pd.read_csv(\"pybamm/input/discharge_data/Ecker_1C.csv\", header=None).to_numpy()\n",
    "voltage_data_5C = pd.read_csv(\"pybamm/input/discharge_data/Ecker_5C.csv\", header=None).to_numpy()"
   ]
  },
  {
   "cell_type": "markdown",
   "metadata": {},
   "source": [
    "import relevant class"
   ]
  },
  {
   "cell_type": "code",
   "execution_count": 4,
   "metadata": {},
   "outputs": [],
   "source": [
    "os.chdir(\"pybamm/models/full_battery_models/lithium_ion\")\n",
    "from basic_dfn_multiple_particle import BasicMPMDFN\n",
    "os.chdir(pybamm.__path__[0]+'/..')"
   ]
  },
  {
   "cell_type": "markdown",
   "metadata": {},
   "source": [
    "specify particle distribution and build model"
   ]
  },
  {
   "cell_type": "code",
   "execution_count": 5,
   "metadata": {},
   "outputs": [],
   "source": [
    "specs = np.array([(1,1/3),(2,1/3),(3,1/3)]), np.array([(6.5e-06,1)])\n",
    "#specs = np.array([(1.37e-05,1)]), np.array([(6.5e-06,1)])"
   ]
  },
  {
   "cell_type": "code",
   "execution_count": 6,
   "metadata": {},
   "outputs": [],
   "source": [
    "model1 = BasicMPMDFN(specs)\n",
    "model2 = pybamm.lithium_ion.BasicDFN()\n",
    "model3 = pybamm.lithium_ion. DFN()"
   ]
  },
  {
   "cell_type": "code",
   "execution_count": 7,
   "metadata": {},
   "outputs": [],
   "source": [
    "parameter_values1 = pybamm.ParameterValues(chemistry=chemistry)\n",
    "parameter_values1.update({\"Current function [A]\": \"[input]\"})"
   ]
  },
  {
   "cell_type": "code",
   "execution_count": 8,
   "metadata": {},
   "outputs": [],
   "source": [
    "parameter_values2 = pybamm.ParameterValues(chemistry=chemistry)\n",
    "parameter_values2.update({\"Current function [A]\": \"[input]\"})"
   ]
  },
  {
   "cell_type": "code",
   "execution_count": 9,
   "metadata": {},
   "outputs": [],
   "source": [
    "var_pts1 = {\n",
    "    var.x_n: int(parameter_values1.evaluate(model2.param.L_n / 1e-6)),\n",
    "    var.x_s: int(parameter_values1.evaluate(model2.param.L_s / 1e-6)),\n",
    "    var.x_p: int(parameter_values1.evaluate(model2.param.L_p / 1e-6)),\n",
    "    var.r_n: int(parameter_values1.evaluate(model2.param.R_n / 1e-7)),\n",
    "    var.r_p: int(parameter_values1.evaluate(model2.param.R_p / 1e-7)),\n",
    "}\n",
    "var_pts2 = {\n",
    "    var.x_n: int(parameter_values1.evaluate(model3.param.L_n / 1e-6)),\n",
    "    var.x_s: int(parameter_values1.evaluate(model3.param.L_s / 1e-6)),\n",
    "    var.x_p: int(parameter_values1.evaluate(model3.param.L_p / 1e-6)),\n",
    "    var.r_n: int(parameter_values1.evaluate(model3.param.R_n / 1e-7)),\n",
    "    var.r_p: int(parameter_values1.evaluate(model3.param.R_p / 1e-7)),\n",
    "}"
   ]
  },
  {
   "cell_type": "code",
   "execution_count": 10,
   "metadata": {},
   "outputs": [],
   "source": [
    "sim1 =  pybamm.Simulation(model1, parameter_values=parameter_values2, var_pts=var_pts1)\n",
    "sim2 =  pybamm.Simulation(model2, parameter_values=parameter_values1, var_pts=var_pts1)\n",
    "sim3 = pybamm.Simulation(model3, parameter_values=parameter_values1, var_pts=var_pts2)"
   ]
  },
  {
   "cell_type": "code",
   "execution_count": 11,
   "metadata": {},
   "outputs": [],
   "source": [
    "C_rates = [1, 5]  # C-rates to solve for\n",
    "capacity = parameter_values1[\"Cell capacity [A.h]\"]\n",
    "t_evals = [\n",
    "    np.linspace(0, 3800, 100), \n",
    "    np.linspace(0, 720, 100)\n",
    "] # times to return the solution at\n",
    "solutions1 = [None] * len(C_rates)  # empty list that will hold solutions\n",
    "\n",
    "# loop over C-rates\n",
    "for i, C_rate in enumerate(C_rates):\n",
    "    current = C_rate * capacity\n",
    "    sim1.solve(t_eval=t_evals[i], solver=pybamm.CasadiSolver(mode=\"fast\"),inputs={\"Current function [A]\": current})\n",
    "    solutions1[i] = sim1.solution"
   ]
  },
  {
   "cell_type": "code",
   "execution_count": 12,
   "metadata": {},
   "outputs": [],
   "source": [
    "C_rates = [1, 5]  # C-rates to solve for\n",
    "capacity = parameter_values1[\"Cell capacity [A.h]\"]\n",
    "t_evals = [\n",
    "    np.linspace(0, 3800, 100), \n",
    "    np.linspace(0, 720, 100)\n",
    "] # times to return the solution at\n",
    "solutions2 = [None] * len(C_rates)  # empty list that will hold solutions\n",
    "\n",
    "# loop over C-rates\n",
    "for i, C_rate in enumerate(C_rates):\n",
    "    current = C_rate * capacity\n",
    "    sim2.solve(t_eval=t_evals[i], solver=pybamm.CasadiSolver(mode=\"fast\"),inputs={\"Current function [A]\": current})\n",
    "    solutions2[i] = sim2.solution"
   ]
  },
  {
   "cell_type": "code",
   "execution_count": 13,
   "metadata": {},
   "outputs": [],
   "source": [
    "C_rates = [1, 5]  # C-rates to solve for\n",
    "capacity = parameter_values1[\"Cell capacity [A.h]\"]\n",
    "t_evals = [\n",
    "    np.linspace(0, 3800, 100), \n",
    "    np.linspace(0, 720, 100)\n",
    "] # times to return the solution at\n",
    "solutions3 = [None] * len(C_rates)  # empty list that will hold solutions\n",
    "\n",
    "# loop over C-rates\n",
    "for i, C_rate in enumerate(C_rates):\n",
    "    current = C_rate * capacity\n",
    "    sim3.solve(t_eval=t_evals[i], solver=pybamm.CasadiSolver(mode=\"fast\"),inputs={\"Current function [A]\": current})\n",
    "    solutions3[i] = sim3.solution"
   ]
  },
  {
   "cell_type": "code",
   "execution_count": 14,
   "metadata": {},
   "outputs": [
    {
     "data": {
      "image/png": "[encoded data removed]",
      "text/plain": [
       "<Figure size 936x288 with 2 Axes>"
      ]
     },
     "metadata": {
      "needs_background": "light"
     },
     "output_type": "display_data"
    }
   ],
   "source": [
    "fig, (ax1, ax2) = plt.subplots(1, 2, figsize=(13, 4))\n",
    "\n",
    "# plot the 1C results\n",
    "t_sol1 = t_evals[0]\n",
    "t_sol2 = t_evals[0]\n",
    "t_sol3 = solutions3[0][\"Time [s]\"].entries\n",
    "ax1.plot(t_sol1, solutions1[0][\"Terminal voltage\"](t_sol1), linestyle='--', label=\"BasicMPMDFN\")\n",
    "#ax1.plot(t_sol2, solutions2[0][\"Terminal voltage\"](t_sol2), color='green', label='BasicDFN')\n",
    "ax1.plot(t_sol3, solutions3[0][\"Terminal voltage\"](t_sol3), \"o\", color='orange', label='DFN')\n",
    "ax1.set_xlabel(\"Time [s]\")\n",
    "ax1.set_ylabel(\"Voltage [V]\")\n",
    "ax1.set_title(\"1C\")\n",
    "ax1.legend(loc=\"best\")\n",
    "\n",
    "# plot the 5C results\n",
    "t_sol1 = t_evals[1]\n",
    "t_sol2 = t_evals[1]\n",
    "t_sol3 = solutions3[1][\"Time [s]\"].entries\n",
    "ax2.plot(t_sol1, solutions1[1][\"Terminal voltage\"](t_sol1), linestyle='--', label=\"BasicMPMDFN\")\n",
    "#ax2.plot(t_sol2, solutions2[1][\"Terminal voltage\"](t_sol2), color='green', label='BasicDFN')\n",
    "ax2.plot(t_sol3, solutions3[1][\"Terminal voltage\"](t_sol3), \"o\", color='orange', label='DFN')\n",
    "ax2.set_xlabel(\"Time [s]\")\n",
    "ax2.set_ylabel(\"Voltage [V]\")\n",
    "ax2.set_title(\"5C\")\n",
    "ax2.legend(loc=\"best\")\n",
    "\n",
    "plt.tight_layout()\n",
    "plt.show()"
   ]
  },
  {
   "cell_type": "code",
   "execution_count": null,
   "metadata": {},
   "outputs": [],
   "source": []
  }
 ],
 "metadata": {
  "kernelspec": {
   "display_name": "Python 3",
   "language": "python",
   "name": "python3"
  },
  "language_info": {
   "codemirror_mode": {
    "name": "ipython",
    "version": 3
   },
   "file_extension": ".py",
   "mimetype": "text/x-python",
   "name": "python",
   "nbconvert_exporter": "python",
   "pygments_lexer": "ipython3",
   "version": "3.7.9"
  }
 },
 "nbformat": 4,
 "nbformat_minor": 4
}
